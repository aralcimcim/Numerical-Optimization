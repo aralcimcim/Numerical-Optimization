{
 "cells": [
  {
   "cell_type": "code",
   "execution_count": 1,
   "metadata": {},
   "outputs": [],
   "source": [
    "import numpy as np\n",
    "import sympy as sp\n",
    "import pandas as pd\n",
    "from mpmath import mp\n",
    "from scipy.linalg import hilbert\n",
    "from IPython.display import display, Math\n",
    "from helper_funcs import *\n",
    "\n",
    "mp.dps = 100"
   ]
  },
  {
   "cell_type": "markdown",
   "metadata": {},
   "source": [
    "**(iv)**\n",
    "\n",
    "only NM - 5 tasks; tasks nr. 26-30"
   ]
  },
  {
   "cell_type": "code",
   "execution_count": 2,
   "metadata": {},
   "outputs": [
    {
     "data": {
      "text/latex": [
       "$\\displaystyle q_1(x) = 1 x_1^4 + 2 x_1^3 + 3 x_1^2 + 4 x_1^1 + 0 x_1^0$"
      ],
      "text/plain": [
       "<IPython.core.display.Math object>"
      ]
     },
     "metadata": {},
     "output_type": "display_data"
    },
    {
     "data": {
      "text/latex": [
       "$\\displaystyle q_2(x) = 0 x_2^4 + 0 x_2^3 + 0 x_2^2 + 9 x_2^1 + 10 x_2^0$"
      ],
      "text/plain": [
       "<IPython.core.display.Math object>"
      ]
     },
     "metadata": {},
     "output_type": "display_data"
    },
    {
     "data": {
      "text/latex": [
       "$\\displaystyle f(x) = (q_1(x))^2 + (q_2(x))^2 = 219.62890625$"
      ],
      "text/plain": [
       "<IPython.core.display.Math object>"
      ]
     },
     "metadata": {},
     "output_type": "display_data"
    },
    {
     "data": {
      "text/latex": [
       "$\\displaystyle \\nabla f(x) = 2(q_1(x)\\nabla q_1(x) + q_2(x)\\nabla q_2(x)) = [ 55.12500191 261.00000191]$"
      ],
      "text/plain": [
       "<IPython.core.display.Math object>"
      ]
     },
     "metadata": {},
     "output_type": "display_data"
    },
    {
     "data": {
      "text/latex": [
       "$\\displaystyle H(x) = 2(q_1(x)H(q_1(x)) + q_2(x)H(q_2(x)) + \\nabla q_1(x)\\nabla q_1(x)^T + \\nabla q_2(x)\\nabla q_2(x)^T) = [[256.   0.]\n",
       " [  0. 128.]]$"
      ],
      "text/plain": [
       "<IPython.core.display.Math object>"
      ]
     },
     "metadata": {},
     "output_type": "display_data"
    }
   ],
   "source": [
    "# Problem 1\n",
    "coeffs_1 = np.array([1, 2, 3, 4, 0, 0, 0, 0, 9, 10])\n",
    "\n",
    "x = np.array([0.5, 0.5])\n",
    "\n",
    "result_func1 = polynomial(coeffs_1, x)\n",
    "result_grad1 = gradient_poly(coeffs_1, x)\n",
    "result_hessian1 = hessian_poly(coeffs_1, x)\n",
    "\n",
    "q1_str = ' + '.join([f'{coeffs_1[i]} x_1^{4-i}' for i in range(5)])\n",
    "q2_str = ' + '.join([f'{coeffs_1[i+5]} x_2^{4-i}' for i in range(5)])\n",
    "\n",
    "display(Math(f'q_1(x) = {q1_str}'))\n",
    "display(Math(f'q_2(x) = {q2_str}'))\n",
    "display(Math(f'f(x) = (q_1(x))^2 + (q_2(x))^2 = {result_func1}'))\n",
    "display(Math(f'\\\\nabla f(x) = 2(q_1(x)\\\\nabla q_1(x) + q_2(x)\\\\nabla q_2(x)) = {result_grad1}'))\n",
    "display(Math(f'H(x) = 2(q_1(x)H(q_1(x)) + q_2(x)H(q_2(x)) + \\\\nabla q_1(x)\\\\nabla q_1(x)^T + \\\\nabla q_2(x)\\\\nabla q_2(x)^T) = {result_hessian1}'))"
   ]
  },
  {
   "cell_type": "code",
   "execution_count": 3,
   "metadata": {},
   "outputs": [
    {
     "data": {
      "text/latex": [
       "$\\displaystyle q_1(x) = 4 x_1^4 + 3 x_1^3 + 2 x_1^2 + 1 x_1^1 + 0 x_1^0$"
      ],
      "text/plain": [
       "<IPython.core.display.Math object>"
      ]
     },
     "metadata": {},
     "output_type": "display_data"
    },
    {
     "data": {
      "text/latex": [
       "$\\displaystyle q_2(x) = 0 x_2^4 + 0 x_2^3 + 0 x_2^2 + 6 x_2^1 + 5 x_2^0$"
      ],
      "text/plain": [
       "<IPython.core.display.Math object>"
      ]
     },
     "metadata": {},
     "output_type": "display_data"
    },
    {
     "data": {
      "text/latex": [
       "$\\displaystyle f(x) = (q_1(x))^2 + (q_2(x))^2 = 66.640625$"
      ],
      "text/plain": [
       "<IPython.core.display.Math object>"
      ]
     },
     "metadata": {},
     "output_type": "display_data"
    },
    {
     "data": {
      "text/latex": [
       "$\\displaystyle \\nabla f(x) = 2(q_1(x)\\nabla q_1(x) + q_2(x)\\nabla q_2(x)) = [23.56250095 96.00000095]$"
      ],
      "text/plain": [
       "<IPython.core.display.Math object>"
      ]
     },
     "metadata": {},
     "output_type": "display_data"
    },
    {
     "data": {
      "text/latex": [
       "$\\displaystyle H(x) = 2(q_1(x)H(q_1(x)) + q_2(x)H(q_2(x)) + \\nabla q_1(x)\\nabla q_1(x)^T + \\nabla q_2(x)\\nabla q_2(x)^T) = [[256.   0.]\n",
       " [  0.   0.]]$"
      ],
      "text/plain": [
       "<IPython.core.display.Math object>"
      ]
     },
     "metadata": {},
     "output_type": "display_data"
    }
   ],
   "source": [
    "# Problem 2\n",
    "coeffs_2 = np.array([4, 3, 2, 1, 0, 0, 0, 0, 6, 5])\n",
    "\n",
    "x = np.array([0.5, 0.5])\n",
    "\n",
    "result_func2 = polynomial(coeffs_2, x)\n",
    "result_grad2 = gradient_poly(coeffs_2, x)\n",
    "result_hessian2 = hessian_poly(coeffs_2, x)\n",
    "\n",
    "q1_str = ' + '.join([f'{coeffs_2[i]} x_1^{4-i}' for i in range(5)])\n",
    "q2_str = ' + '.join([f'{coeffs_2[i+5]} x_2^{4-i}' for i in range(5)])\n",
    "\n",
    "display(Math(f'q_1(x) = {q1_str}'))\n",
    "display(Math(f'q_2(x) = {q2_str}'))\n",
    "display(Math(f'f(x) = (q_1(x))^2 + (q_2(x))^2 = {result_func2}'))\n",
    "display(Math(f'\\\\nabla f(x) = 2(q_1(x)\\\\nabla q_1(x) + q_2(x)\\\\nabla q_2(x)) = {result_grad2}'))\n",
    "display(Math(f'H(x) = 2(q_1(x)H(q_1(x)) + q_2(x)H(q_2(x)) + \\\\nabla q_1(x)\\\\nabla q_1(x)^T + \\\\nabla q_2(x)\\\\nabla q_2(x)^T) = {result_hessian2}'))"
   ]
  },
  {
   "cell_type": "code",
   "execution_count": 4,
   "metadata": {},
   "outputs": [
    {
     "data": {
      "text/latex": [
       "$\\displaystyle q_1(x) = 5 x_1^4 + 2 x_1^3 + 9 x_1^2 + 4 x_1^1 + 0 x_1^0$"
      ],
      "text/plain": [
       "<IPython.core.display.Math object>"
      ]
     },
     "metadata": {},
     "output_type": "display_data"
    },
    {
     "data": {
      "text/latex": [
       "$\\displaystyle q_2(x) = 0 x_2^4 + 0 x_2^3 + 0 x_2^2 + 3 x_2^1 + 7 x_2^0$"
      ],
      "text/plain": [
       "<IPython.core.display.Math object>"
      ]
     },
     "metadata": {},
     "output_type": "display_data"
    },
    {
     "data": {
      "text/latex": [
       "$\\displaystyle f(x) = (q_1(x))^2 + (q_2(x))^2 = 95.41015625$"
      ],
      "text/plain": [
       "<IPython.core.display.Math object>"
      ]
     },
     "metadata": {},
     "output_type": "display_data"
    },
    {
     "data": {
      "text/latex": [
       "$\\displaystyle \\nabla f(x) = 2(q_1(x)\\nabla q_1(x) + q_2(x)\\nabla q_2(x)) = [163.62500763  51.        ]$"
      ],
      "text/plain": [
       "<IPython.core.display.Math object>"
      ]
     },
     "metadata": {},
     "output_type": "display_data"
    },
    {
     "data": {
      "text/latex": [
       "$\\displaystyle H(x) = 2(q_1(x)H(q_1(x)) + q_2(x)H(q_2(x)) + \\nabla q_1(x)\\nabla q_1(x)^T + \\nabla q_2(x)\\nabla q_2(x)^T) = [[896.   0.]\n",
       " [  0.  64.]]$"
      ],
      "text/plain": [
       "<IPython.core.display.Math object>"
      ]
     },
     "metadata": {},
     "output_type": "display_data"
    }
   ],
   "source": [
    "# Problem 3\n",
    "coeffs_3 = np.array([5, 2, 9, 4, 0, 0, 0, 0, 3, 7])\n",
    "\n",
    "x = np.array([0.5, 0.5])\n",
    "\n",
    "result_func3 = polynomial(coeffs_3, x)\n",
    "result_grad3 = gradient_poly(coeffs_3, x)\n",
    "result_hessian3 = hessian_poly(coeffs_3, x)\n",
    "\n",
    "q1_str = ' + '.join([f'{coeffs_3[i]} x_1^{4-i}' for i in range(5)])\n",
    "q2_str = ' + '.join([f'{coeffs_3[i+5]} x_2^{4-i}' for i in range(5)])\n",
    "\n",
    "display(Math(f'q_1(x) = {q1_str}'))\n",
    "display(Math(f'q_2(x) = {q2_str}'))\n",
    "display(Math(f'f(x) = (q_1(x))^2 + (q_2(x))^2 = {result_func3}'))\n",
    "display(Math(f'\\\\nabla f(x) = 2(q_1(x)\\\\nabla q_1(x) + q_2(x)\\\\nabla q_2(x)) = {result_grad3}'))\n",
    "display(Math(f'H(x) = 2(q_1(x)H(q_1(x)) + q_2(x)H(q_2(x)) + \\\\nabla q_1(x)\\\\nabla q_1(x)^T + \\\\nabla q_2(x)\\\\nabla q_2(x)^T) = {result_hessian3}'))"
   ]
  },
  {
   "cell_type": "code",
   "execution_count": 5,
   "metadata": {},
   "outputs": [
    {
     "data": {
      "text/latex": [
       "$\\displaystyle q_1(x) = 3 x_1^4 + 2 x_1^3 + 4 x_1^2 + 1 x_1^1 + 0 x_1^0$"
      ],
      "text/plain": [
       "<IPython.core.display.Math object>"
      ]
     },
     "metadata": {},
     "output_type": "display_data"
    },
    {
     "data": {
      "text/latex": [
       "$\\displaystyle q_2(x) = 0 x_2^4 + 0 x_2^3 + 0 x_2^2 + 10 x_2^1 + 6 x_2^0$"
      ],
      "text/plain": [
       "<IPython.core.display.Math object>"
      ]
     },
     "metadata": {},
     "output_type": "display_data"
    },
    {
     "data": {
      "text/latex": [
       "$\\displaystyle f(x) = (q_1(x))^2 + (q_2(x))^2 = 124.75390625$"
      ],
      "text/plain": [
       "<IPython.core.display.Math object>"
      ]
     },
     "metadata": {},
     "output_type": "display_data"
    },
    {
     "data": {
      "text/latex": [
       "$\\displaystyle \\nabla f(x) = 2(q_1(x)\\nabla q_1(x) + q_2(x)\\nabla q_2(x)) = [ 31.00000191 220.00000191]$"
      ],
      "text/plain": [
       "<IPython.core.display.Math object>"
      ]
     },
     "metadata": {},
     "output_type": "display_data"
    },
    {
     "data": {
      "text/latex": [
       "$\\displaystyle H(x) = 2(q_1(x)H(q_1(x)) + q_2(x)H(q_2(x)) + \\nabla q_1(x)\\nabla q_1(x)^T + \\nabla q_2(x)\\nabla q_2(x)^T) = [[192.   0.]\n",
       " [  0. 128.]]$"
      ],
      "text/plain": [
       "<IPython.core.display.Math object>"
      ]
     },
     "metadata": {},
     "output_type": "display_data"
    }
   ],
   "source": [
    "# Problem 4\n",
    "coeffs_4 = np.array([3, 2, 4, 1, 0, 0, 0, 0, 10, 6])\n",
    "\n",
    "x = np.array([0.5, 0.5])\n",
    "\n",
    "result_func4 = polynomial(coeffs_4, x)\n",
    "result_grad4 = gradient_poly(coeffs_4, x)\n",
    "result_hessian4 = hessian_poly(coeffs_4, x)\n",
    "\n",
    "q1_str = ' + '.join([f'{coeffs_4[i]} x_1^{4-i}' for i in range(5)])\n",
    "q2_str = ' + '.join([f'{coeffs_4[i+5]} x_2^{4-i}' for i in range(5)])\n",
    "\n",
    "display(Math(f'q_1(x) = {q1_str}'))\n",
    "display(Math(f'q_2(x) = {q2_str}'))\n",
    "display(Math(f'f(x) = (q_1(x))^2 + (q_2(x))^2 = {result_func4}'))\n",
    "display(Math(f'\\\\nabla f(x) = 2(q_1(x)\\\\nabla q_1(x) + q_2(x)\\\\nabla q_2(x)) = {result_grad4}'))\n",
    "display(Math(f'H(x) = 2(q_1(x)H(q_1(x)) + q_2(x)H(q_2(x)) + \\\\nabla q_1(x)\\\\nabla q_1(x)^T + \\\\nabla q_2(x)\\\\nabla q_2(x)^T) = {result_hessian4}'))"
   ]
  },
  {
   "cell_type": "code",
   "execution_count": 6,
   "metadata": {},
   "outputs": [
    {
     "data": {
      "text/latex": [
       "$\\displaystyle q_1(x) = 1 x_1^4 + 1 x_1^3 + 3 x_1^2 + 2 x_1^1 + 0 x_1^0$"
      ],
      "text/plain": [
       "<IPython.core.display.Math object>"
      ]
     },
     "metadata": {},
     "output_type": "display_data"
    },
    {
     "data": {
      "text/latex": [
       "$\\displaystyle q_2(x) = 0 x_2^4 + 0 x_2^3 + 0 x_2^2 + 4 x_2^1 + 5 x_2^0$"
      ],
      "text/plain": [
       "<IPython.core.display.Math object>"
      ]
     },
     "metadata": {},
     "output_type": "display_data"
    },
    {
     "data": {
      "text/latex": [
       "$\\displaystyle f(x) = (q_1(x))^2 + (q_2(x))^2 = 52.75390625$"
      ],
      "text/plain": [
       "<IPython.core.display.Math object>"
      ]
     },
     "metadata": {},
     "output_type": "display_data"
    },
    {
     "data": {
      "text/latex": [
       "$\\displaystyle \\nabla f(x) = 2(q_1(x)\\nabla q_1(x) + q_2(x)\\nabla q_2(x)) = [24.21875095 56.00000048]$"
      ],
      "text/plain": [
       "<IPython.core.display.Math object>"
      ]
     },
     "metadata": {},
     "output_type": "display_data"
    },
    {
     "data": {
      "text/latex": [
       "$\\displaystyle H(x) = 2(q_1(x)H(q_1(x)) + q_2(x)H(q_2(x)) + \\nabla q_1(x)\\nabla q_1(x)^T + \\nabla q_2(x)\\nabla q_2(x)^T) = [[128.   0.]\n",
       " [  0.   0.]]$"
      ],
      "text/plain": [
       "<IPython.core.display.Math object>"
      ]
     },
     "metadata": {},
     "output_type": "display_data"
    }
   ],
   "source": [
    "# Problem 5\n",
    "coeffs_5 = np.array([1, 1, 3, 2, 0, 0, 0, 0, 4, 5])\n",
    "\n",
    "x = np.array([0.5, 0.5])\n",
    "\n",
    "result_func5 = polynomial(coeffs_5, x)\n",
    "result_grad5 = gradient_poly(coeffs_5, x)\n",
    "result_hessian5 = hessian_poly(coeffs_5, x)\n",
    "\n",
    "q1_str = ' + '.join([f'{coeffs_5[i]} x_1^{4-i}' for i in range(5)])\n",
    "q2_str = ' + '.join([f'{coeffs_5[i+5]} x_2^{4-i}' for i in range(5)])\n",
    "\n",
    "display(Math(f'q_1(x) = {q1_str}'))\n",
    "display(Math(f'q_2(x) = {q2_str}'))\n",
    "display(Math(f'f(x) = (q_1(x))^2 + (q_2(x))^2 = {result_func5}'))\n",
    "display(Math(f'\\\\nabla f(x) = 2(q_1(x)\\\\nabla q_1(x) + q_2(x)\\\\nabla q_2(x)) = {result_grad5}'))\n",
    "display(Math(f'H(x) = 2(q_1(x)H(q_1(x)) + q_2(x)H(q_2(x)) + \\\\nabla q_1(x)\\\\nabla q_1(x)^T + \\\\nabla q_2(x)\\\\nabla q_2(x)^T) = {result_hessian5}'))"
   ]
  },
  {
   "cell_type": "code",
   "execution_count": 7,
   "metadata": {},
   "outputs": [],
   "source": [
    "x_0 = np.array([0, 0])\n",
    "alpha = 0.01\n",
    "num_iter = 100"
   ]
  },
  {
   "cell_type": "code",
   "execution_count": 8,
   "metadata": {},
   "outputs": [
    {
     "name": "stdout",
     "output_type": "stream",
     "text": [
      "alpha = 0.005\n",
      "alpha = 0.0025\n",
      "alpha = 0.00125\n",
      "alpha = 0.000625\n",
      "alpha = 0.0003125\n",
      "alpha = 0.00015625\n",
      "alpha = 7.8125e-05\n",
      "alpha = 3.90625e-05\n",
      "alpha = 1.953125e-05\n",
      "alpha = 9.765625e-06\n",
      "alpha = 4.8828125e-06\n",
      "alpha = 2.44140625e-06\n",
      "alpha = 1.220703125e-06\n",
      "alpha = 6.103515625e-07\n",
      "alpha = 3.0517578125e-07\n",
      "alpha = 1.52587890625e-07\n",
      "alpha = 7.62939453125e-08\n",
      "alpha = 3.814697265625e-08\n",
      "alpha = 1.9073486328125e-08\n",
      "alpha = 9.5367431640625e-09\n",
      "alpha = 4.76837158203125e-09\n",
      "alpha = 2.384185791015625e-09\n",
      "alpha = 1.1920928955078125e-09\n",
      "alpha = 5.960464477539063e-10\n"
     ]
    },
    {
     "data": {
      "text/html": [
       "<div>\n",
       "<style scoped>\n",
       "    .dataframe tbody tr th:only-of-type {\n",
       "        vertical-align: middle;\n",
       "    }\n",
       "\n",
       "    .dataframe tbody tr th {\n",
       "        vertical-align: top;\n",
       "    }\n",
       "\n",
       "    .dataframe thead th {\n",
       "        text-align: right;\n",
       "    }\n",
       "</style>\n",
       "<table border=\"1\" class=\"dataframe\">\n",
       "  <thead>\n",
       "    <tr style=\"text-align: right;\">\n",
       "      <th></th>\n",
       "      <th>x</th>\n",
       "      <th>f(x)</th>\n",
       "    </tr>\n",
       "  </thead>\n",
       "  <tbody>\n",
       "    <tr>\n",
       "      <th>0</th>\n",
       "      <td>[0, 0]</td>\n",
       "      <td>100.000000</td>\n",
       "    </tr>\n",
       "    <tr>\n",
       "      <th>1</th>\n",
       "      <td>[0.0, -0.009375000049182257]</td>\n",
       "      <td>98.319619</td>\n",
       "    </tr>\n",
       "    <tr>\n",
       "      <th>2</th>\n",
       "      <td>[0.0, -0.018670898525934523]</td>\n",
       "      <td>96.667475</td>\n",
       "    </tr>\n",
       "    <tr>\n",
       "      <th>3</th>\n",
       "      <td>[0.0, -0.025583996771523627]</td>\n",
       "      <td>95.447898</td>\n",
       "    </tr>\n",
       "    <tr>\n",
       "      <th>4</th>\n",
       "      <td>[0.0, -0.03474313184446998]</td>\n",
       "      <td>93.844010</td>\n",
       "    </tr>\n",
       "    <tr>\n",
       "      <th>5</th>\n",
       "      <td>[0.0, -0.04836591422279451]</td>\n",
       "      <td>91.483616</td>\n",
       "    </tr>\n",
       "    <tr>\n",
       "      <th>6</th>\n",
       "      <td>[0.0, -0.06181628323707973]</td>\n",
       "      <td>89.182591</td>\n",
       "    </tr>\n",
       "    <tr>\n",
       "      <th>7</th>\n",
       "      <td>[0.0, -0.0750964210133707]</td>\n",
       "      <td>86.939441</td>\n",
       "    </tr>\n",
       "    <tr>\n",
       "      <th>8</th>\n",
       "      <td>[0.0, -0.08820848203605848]</td>\n",
       "      <td>84.752713</td>\n",
       "    </tr>\n",
       "    <tr>\n",
       "      <th>9</th>\n",
       "      <td>[0.0, -0.10115459352040912]</td>\n",
       "      <td>82.620986</td>\n",
       "    </tr>\n",
       "    <tr>\n",
       "      <th>10</th>\n",
       "      <td>[0.0, -0.10967610169708678]</td>\n",
       "      <td>81.232638</td>\n",
       "    </tr>\n",
       "    <tr>\n",
       "      <th>11</th>\n",
       "      <td>[0.0, -0.11812570963517476]</td>\n",
       "      <td>79.867621</td>\n",
       "    </tr>\n",
       "    <tr>\n",
       "      <th>12</th>\n",
       "      <td>[0.0, -0.12650402401061578]</td>\n",
       "      <td>78.525540</td>\n",
       "    </tr>\n",
       "    <tr>\n",
       "      <th>13</th>\n",
       "      <td>[0.0, -0.1348116463832872]</td>\n",
       "      <td>77.206012</td>\n",
       "    </tr>\n",
       "    <tr>\n",
       "      <th>14</th>\n",
       "      <td>[0.0, -0.14304917314733048]</td>\n",
       "      <td>75.908657</td>\n",
       "    </tr>\n",
       "    <tr>\n",
       "      <th>15</th>\n",
       "      <td>[0.0, -0.1553012071697774]</td>\n",
       "      <td>73.999378</td>\n",
       "    </tr>\n",
       "    <tr>\n",
       "      <th>16</th>\n",
       "      <td>[0.0, -0.16336585329419717]</td>\n",
       "      <td>72.755907</td>\n",
       "    </tr>\n",
       "    <tr>\n",
       "      <th>17</th>\n",
       "      <td>[0.0, -0.18735565544236718]</td>\n",
       "      <td>69.119255</td>\n",
       "    </tr>\n",
       "    <tr>\n",
       "      <th>18</th>\n",
       "      <td>[0.0, -0.1951498421632067]</td>\n",
       "      <td>67.957789</td>\n",
       "    </tr>\n",
       "    <tr>\n",
       "      <th>19</th>\n",
       "      <td>[0.0, -0.20094615958388012]</td>\n",
       "      <td>67.100419</td>\n",
       "    </tr>\n",
       "    <tr>\n",
       "      <th>20</th>\n",
       "      <td>[0.0, -0.20862567640557983]</td>\n",
       "      <td>65.972877</td>\n",
       "    </tr>\n",
       "    <tr>\n",
       "      <th>21</th>\n",
       "      <td>[0.0, -0.2314698392833848]</td>\n",
       "      <td>62.675270</td>\n",
       "    </tr>\n",
       "    <tr>\n",
       "      <th>22</th>\n",
       "      <td>[-0.11920928955078125, -0.23369643127264364]</td>\n",
       "      <td>62.549689</td>\n",
       "    </tr>\n",
       "    <tr>\n",
       "      <th>23</th>\n",
       "      <td>[-0.11897943843163282, -0.23647262618573955]</td>\n",
       "      <td>62.155026</td>\n",
       "    </tr>\n",
       "    <tr>\n",
       "      <th>24</th>\n",
       "      <td>[-0.11874991927310279, -0.23831756674992818]</td>\n",
       "      <td>61.893215</td>\n",
       "    </tr>\n",
       "    <tr>\n",
       "      <th>25</th>\n",
       "      <td>[-0.11852073196343244, -0.24052682542536535]</td>\n",
       "      <td>61.580566</td>\n",
       "    </tr>\n",
       "    <tr>\n",
       "      <th>26</th>\n",
       "      <td>[-0.11829187639086305, -0.24273049191852425]</td>\n",
       "      <td>61.269496</td>\n",
       "    </tr>\n",
       "    <tr>\n",
       "      <th>27</th>\n",
       "      <td>[-0.11806335240638303, -0.245478102502211]</td>\n",
       "      <td>60.882912</td>\n",
       "    </tr>\n",
       "    <tr>\n",
       "      <th>28</th>\n",
       "      <td>[0.05603368660100956, -0.2454781031552197]</td>\n",
       "      <td>60.749677</td>\n",
       "    </tr>\n",
       "    <tr>\n",
       "      <th>29</th>\n",
       "      <td>[0.05603368658203149, -0.2454781038082284]</td>\n",
       "      <td>60.749677</td>\n",
       "    </tr>\n",
       "  </tbody>\n",
       "</table>\n",
       "</div>"
      ],
      "text/plain": [
       "                                               x        f(x)\n",
       "0                                         [0, 0]  100.000000\n",
       "1                   [0.0, -0.009375000049182257]   98.319619\n",
       "2                   [0.0, -0.018670898525934523]   96.667475\n",
       "3                   [0.0, -0.025583996771523627]   95.447898\n",
       "4                    [0.0, -0.03474313184446998]   93.844010\n",
       "5                    [0.0, -0.04836591422279451]   91.483616\n",
       "6                    [0.0, -0.06181628323707973]   89.182591\n",
       "7                     [0.0, -0.0750964210133707]   86.939441\n",
       "8                    [0.0, -0.08820848203605848]   84.752713\n",
       "9                    [0.0, -0.10115459352040912]   82.620986\n",
       "10                   [0.0, -0.10967610169708678]   81.232638\n",
       "11                   [0.0, -0.11812570963517476]   79.867621\n",
       "12                   [0.0, -0.12650402401061578]   78.525540\n",
       "13                    [0.0, -0.1348116463832872]   77.206012\n",
       "14                   [0.0, -0.14304917314733048]   75.908657\n",
       "15                    [0.0, -0.1553012071697774]   73.999378\n",
       "16                   [0.0, -0.16336585329419717]   72.755907\n",
       "17                   [0.0, -0.18735565544236718]   69.119255\n",
       "18                    [0.0, -0.1951498421632067]   67.957789\n",
       "19                   [0.0, -0.20094615958388012]   67.100419\n",
       "20                   [0.0, -0.20862567640557983]   65.972877\n",
       "21                    [0.0, -0.2314698392833848]   62.675270\n",
       "22  [-0.11920928955078125, -0.23369643127264364]   62.549689\n",
       "23  [-0.11897943843163282, -0.23647262618573955]   62.155026\n",
       "24  [-0.11874991927310279, -0.23831756674992818]   61.893215\n",
       "25  [-0.11852073196343244, -0.24052682542536535]   61.580566\n",
       "26  [-0.11829187639086305, -0.24273049191852425]   61.269496\n",
       "27    [-0.11806335240638303, -0.245478102502211]   60.882912\n",
       "28    [0.05603368660100956, -0.2454781031552197]   60.749677\n",
       "29    [0.05603368658203149, -0.2454781038082284]   60.749677"
      ]
     },
     "execution_count": 8,
     "metadata": {},
     "output_type": "execute_result"
    }
   ],
   "source": [
    "#problem 1\n",
    "x_values, f_values = descent(lambda x: polynomial(coeffs_1, x), \n",
    "                             lambda x: gradient_poly(coeffs_1, x), p, x_0, alpha, num_iter, 'newton', hessian=lambda x: hessian_poly(coeffs_1, x))\n",
    "\n",
    "data = pd.DataFrame({'x': x_values, 'f(x)': f_values})\n",
    "data"
   ]
  },
  {
   "cell_type": "code",
   "execution_count": 9,
   "metadata": {},
   "outputs": [
    {
     "name": "stdout",
     "output_type": "stream",
     "text": [
      "alpha = 0.005\n",
      "alpha = 0.0025\n",
      "alpha = 0.00125\n",
      "alpha = 0.000625\n",
      "alpha = 0.0003125\n",
      "alpha = 0.00015625\n",
      "alpha = 7.8125e-05\n",
      "alpha = 3.90625e-05\n",
      "alpha = 1.953125e-05\n",
      "alpha = 9.765625e-06\n",
      "alpha = 4.8828125e-06\n",
      "alpha = 2.44140625e-06\n",
      "alpha = 1.220703125e-06\n",
      "alpha = 6.103515625e-07\n",
      "alpha = 3.0517578125e-07\n",
      "alpha = 1.52587890625e-07\n",
      "alpha = 7.62939453125e-08\n",
      "alpha = 3.814697265625e-08\n",
      "alpha = 1.9073486328125e-08\n",
      "alpha = 9.5367431640625e-09\n",
      "alpha = 4.76837158203125e-09\n"
     ]
    },
    {
     "data": {
      "text/html": [
       "<div>\n",
       "<style scoped>\n",
       "    .dataframe tbody tr th:only-of-type {\n",
       "        vertical-align: middle;\n",
       "    }\n",
       "\n",
       "    .dataframe tbody tr th {\n",
       "        vertical-align: top;\n",
       "    }\n",
       "\n",
       "    .dataframe thead th {\n",
       "        text-align: right;\n",
       "    }\n",
       "</style>\n",
       "<table border=\"1\" class=\"dataframe\">\n",
       "  <thead>\n",
       "    <tr style=\"text-align: right;\">\n",
       "      <th></th>\n",
       "      <th>x</th>\n",
       "      <th>f(x)</th>\n",
       "    </tr>\n",
       "  </thead>\n",
       "  <tbody>\n",
       "    <tr>\n",
       "      <th>0</th>\n",
       "      <td>[0, 0]</td>\n",
       "      <td>25.000000</td>\n",
       "    </tr>\n",
       "    <tr>\n",
       "      <th>1</th>\n",
       "      <td>[0.0, -0.0075000000586671455]</td>\n",
       "      <td>24.552025</td>\n",
       "    </tr>\n",
       "    <tr>\n",
       "      <th>2</th>\n",
       "      <td>[0.0, -0.0149325001221111]</td>\n",
       "      <td>24.112077</td>\n",
       "    </tr>\n",
       "    <tr>\n",
       "      <th>3</th>\n",
       "      <td>[0.0, -0.02229810768087134]</td>\n",
       "      <td>23.680013</td>\n",
       "    </tr>\n",
       "    <tr>\n",
       "      <th>4</th>\n",
       "      <td>[0.0, -0.029597424771662342]</td>\n",
       "      <td>23.255691</td>\n",
       "    </tr>\n",
       "    <tr>\n",
       "      <th>...</th>\n",
       "      <td>...</td>\n",
       "      <td>...</td>\n",
       "    </tr>\n",
       "    <tr>\n",
       "      <th>94</th>\n",
       "      <td>[-0.029802322387695312, -0.5055403883433154]</td>\n",
       "      <td>3.868925</td>\n",
       "    </tr>\n",
       "    <tr>\n",
       "      <th>95</th>\n",
       "      <td>[-0.029677497819378108, -0.5088183178674408]</td>\n",
       "      <td>3.791943</td>\n",
       "    </tr>\n",
       "    <tr>\n",
       "      <th>96</th>\n",
       "      <td>[0.017774706124598093, -0.5088183209622572]</td>\n",
       "      <td>3.791499</td>\n",
       "    </tr>\n",
       "    <tr>\n",
       "      <th>97</th>\n",
       "      <td>[-0.0010964136533431097, -0.5088183225096654]</td>\n",
       "      <td>3.791161</td>\n",
       "    </tr>\n",
       "    <tr>\n",
       "      <th>98</th>\n",
       "      <td>[-0.0010964136507461827, -0.5088183241012852]</td>\n",
       "      <td>3.791161</td>\n",
       "    </tr>\n",
       "  </tbody>\n",
       "</table>\n",
       "<p>99 rows × 2 columns</p>\n",
       "</div>"
      ],
      "text/plain": [
       "                                                x       f(x)\n",
       "0                                          [0, 0]  25.000000\n",
       "1                   [0.0, -0.0075000000586671455]  24.552025\n",
       "2                      [0.0, -0.0149325001221111]  24.112077\n",
       "3                     [0.0, -0.02229810768087134]  23.680013\n",
       "4                    [0.0, -0.029597424771662342]  23.255691\n",
       "..                                            ...        ...\n",
       "94   [-0.029802322387695312, -0.5055403883433154]   3.868925\n",
       "95   [-0.029677497819378108, -0.5088183178674408]   3.791943\n",
       "96    [0.017774706124598093, -0.5088183209622572]   3.791499\n",
       "97  [-0.0010964136533431097, -0.5088183225096654]   3.791161\n",
       "98  [-0.0010964136507461827, -0.5088183241012852]   3.791161\n",
       "\n",
       "[99 rows x 2 columns]"
      ]
     },
     "execution_count": 9,
     "metadata": {},
     "output_type": "execute_result"
    }
   ],
   "source": [
    "#problem 2\n",
    "x_values, f_values = descent(lambda x: polynomial(coeffs_2, x), \n",
    "                             lambda x: gradient_poly(coeffs_2, x), p, x_0, alpha, num_iter, 'newton', hessian=lambda x: hessian_poly(coeffs_2, x))\n",
    "\n",
    "data = pd.DataFrame({'x': x_values, 'f(x)': f_values})\n",
    "data"
   ]
  },
  {
   "cell_type": "code",
   "execution_count": 10,
   "metadata": {},
   "outputs": [
    {
     "name": "stdout",
     "output_type": "stream",
     "text": [
      "alpha = 0.005\n",
      "alpha = 0.0025\n",
      "alpha = 0.00125\n",
      "alpha = 0.000625\n",
      "alpha = 0.0003125\n",
      "alpha = 0.00015625\n",
      "alpha = 7.8125e-05\n",
      "alpha = 3.90625e-05\n",
      "alpha = 1.953125e-05\n",
      "alpha = 9.765625e-06\n",
      "alpha = 4.8828125e-06\n",
      "alpha = 2.44140625e-06\n",
      "alpha = 1.220703125e-06\n",
      "alpha = 6.103515625e-07\n",
      "alpha = 3.0517578125e-07\n",
      "alpha = 1.52587890625e-07\n",
      "alpha = 7.62939453125e-08\n",
      "alpha = 3.814697265625e-08\n",
      "alpha = 1.9073486328125e-08\n",
      "alpha = 9.5367431640625e-09\n",
      "alpha = 4.76837158203125e-09\n",
      "alpha = 2.384185791015625e-09\n",
      "alpha = 1.1920928955078125e-09\n",
      "alpha = 5.960464477539063e-10\n"
     ]
    },
    {
     "data": {
      "text/html": [
       "<div>\n",
       "<style scoped>\n",
       "    .dataframe tbody tr th:only-of-type {\n",
       "        vertical-align: middle;\n",
       "    }\n",
       "\n",
       "    .dataframe tbody tr th {\n",
       "        vertical-align: top;\n",
       "    }\n",
       "\n",
       "    .dataframe thead th {\n",
       "        text-align: right;\n",
       "    }\n",
       "</style>\n",
       "<table border=\"1\" class=\"dataframe\">\n",
       "  <thead>\n",
       "    <tr style=\"text-align: right;\">\n",
       "      <th></th>\n",
       "      <th>x</th>\n",
       "      <th>f(x)</th>\n",
       "    </tr>\n",
       "  </thead>\n",
       "  <tbody>\n",
       "    <tr>\n",
       "      <th>0</th>\n",
       "      <td>[0, 0]</td>\n",
       "      <td>49.000000</td>\n",
       "    </tr>\n",
       "    <tr>\n",
       "      <th>1</th>\n",
       "      <td>[-0.476837158203125, -0.013124999995898437]</td>\n",
       "      <td>48.482941</td>\n",
       "    </tr>\n",
       "    <tr>\n",
       "      <th>2</th>\n",
       "      <td>[-0.4765330020338772, -0.026176171890661806]</td>\n",
       "      <td>47.938819</td>\n",
       "    </tr>\n",
       "    <tr>\n",
       "      <th>3</th>\n",
       "      <td>[-0.4762320433557979, -0.039153930979652446]</td>\n",
       "      <td>47.400807</td>\n",
       "    </tr>\n",
       "    <tr>\n",
       "      <th>4</th>\n",
       "      <td>[-0.4756364294889396, -0.05205869017404691]</td>\n",
       "      <td>46.868278</td>\n",
       "    </tr>\n",
       "    <tr>\n",
       "      <th>5</th>\n",
       "      <td>[-0.4753448244932576, -0.06489086000083595]</td>\n",
       "      <td>46.342292</td>\n",
       "    </tr>\n",
       "    <tr>\n",
       "      <th>6</th>\n",
       "      <td>[-0.4751524340116467, -0.07765084890084778]</td>\n",
       "      <td>45.822388</td>\n",
       "    </tr>\n",
       "    <tr>\n",
       "      <th>7</th>\n",
       "      <td>[-0.47486583416699735, -0.0903390629307248]</td>\n",
       "      <td>45.308143</td>\n",
       "    </tr>\n",
       "    <tr>\n",
       "      <th>8</th>\n",
       "      <td>[-0.474582183560171, -0.0966474842733041]</td>\n",
       "      <td>45.053293</td>\n",
       "    </tr>\n",
       "    <tr>\n",
       "      <th>9</th>\n",
       "      <td>[-0.47458218354343745, -2.4963510738905788]</td>\n",
       "      <td>0.267594</td>\n",
       "    </tr>\n",
       "    <tr>\n",
       "      <th>10</th>\n",
       "      <td>[-0.474582183527211, -2.4963510737920442]</td>\n",
       "      <td>0.267594</td>\n",
       "    </tr>\n",
       "  </tbody>\n",
       "</table>\n",
       "</div>"
      ],
      "text/plain": [
       "                                               x       f(x)\n",
       "0                                         [0, 0]  49.000000\n",
       "1    [-0.476837158203125, -0.013124999995898437]  48.482941\n",
       "2   [-0.4765330020338772, -0.026176171890661806]  47.938819\n",
       "3   [-0.4762320433557979, -0.039153930979652446]  47.400807\n",
       "4    [-0.4756364294889396, -0.05205869017404691]  46.868278\n",
       "5    [-0.4753448244932576, -0.06489086000083595]  46.342292\n",
       "6    [-0.4751524340116467, -0.07765084890084778]  45.822388\n",
       "7    [-0.47486583416699735, -0.0903390629307248]  45.308143\n",
       "8      [-0.474582183560171, -0.0966474842733041]  45.053293\n",
       "9    [-0.47458218354343745, -2.4963510738905788]   0.267594\n",
       "10     [-0.474582183527211, -2.4963510737920442]   0.267594"
      ]
     },
     "execution_count": 10,
     "metadata": {},
     "output_type": "execute_result"
    }
   ],
   "source": [
    "#problem 3\n",
    "x_values, f_values = descent(lambda x: polynomial(coeffs_3, x), \n",
    "                             lambda x: gradient_poly(coeffs_3, x), p, x_0, alpha, num_iter, 'newton', hessian=lambda x: hessian_poly(coeffs_3, x))\n",
    "\n",
    "data = pd.DataFrame({'x': x_values, 'f(x)': f_values})\n",
    "data"
   ]
  },
  {
   "cell_type": "code",
   "execution_count": 11,
   "metadata": {},
   "outputs": [
    {
     "data": {
      "text/html": [
       "<div>\n",
       "<style scoped>\n",
       "    .dataframe tbody tr th:only-of-type {\n",
       "        vertical-align: middle;\n",
       "    }\n",
       "\n",
       "    .dataframe tbody tr th {\n",
       "        vertical-align: top;\n",
       "    }\n",
       "\n",
       "    .dataframe thead th {\n",
       "        text-align: right;\n",
       "    }\n",
       "</style>\n",
       "<table border=\"1\" class=\"dataframe\">\n",
       "  <thead>\n",
       "    <tr style=\"text-align: right;\">\n",
       "      <th></th>\n",
       "      <th>x</th>\n",
       "      <th>f(x)</th>\n",
       "    </tr>\n",
       "  </thead>\n",
       "  <tbody>\n",
       "    <tr>\n",
       "      <th>0</th>\n",
       "      <td>[0, 0]</td>\n",
       "      <td>36.000000</td>\n",
       "    </tr>\n",
       "    <tr>\n",
       "      <th>1</th>\n",
       "      <td>[0.0, -0.0062500000741802855]</td>\n",
       "      <td>35.253906</td>\n",
       "    </tr>\n",
       "    <tr>\n",
       "      <th>2</th>\n",
       "      <td>[0.0, -0.012434895981697294]</td>\n",
       "      <td>34.523275</td>\n",
       "    </tr>\n",
       "    <tr>\n",
       "      <th>3</th>\n",
       "      <td>[0.0, -0.017681013032621724]</td>\n",
       "      <td>33.909540</td>\n",
       "    </tr>\n",
       "    <tr>\n",
       "      <th>4</th>\n",
       "      <td>[0.0, -0.023746835896878003]</td>\n",
       "      <td>33.206771</td>\n",
       "    </tr>\n",
       "    <tr>\n",
       "      <th>...</th>\n",
       "      <td>...</td>\n",
       "      <td>...</td>\n",
       "    </tr>\n",
       "    <tr>\n",
       "      <th>97</th>\n",
       "      <td>[0.0, -0.3732321611128912]</td>\n",
       "      <td>5.142365</td>\n",
       "    </tr>\n",
       "    <tr>\n",
       "      <th>98</th>\n",
       "      <td>[0.0, -0.37554611872854765]</td>\n",
       "      <td>5.037954</td>\n",
       "    </tr>\n",
       "    <tr>\n",
       "      <th>99</th>\n",
       "      <td>[0.0, -0.37779065761677066]</td>\n",
       "      <td>4.937699</td>\n",
       "    </tr>\n",
       "    <tr>\n",
       "      <th>100</th>\n",
       "      <td>[0.0, -0.38001275111536637]</td>\n",
       "      <td>4.839439</td>\n",
       "    </tr>\n",
       "    <tr>\n",
       "      <th>101</th>\n",
       "      <td>[0.0, -0.3822575190389962]</td>\n",
       "      <td>4.741179</td>\n",
       "    </tr>\n",
       "  </tbody>\n",
       "</table>\n",
       "<p>102 rows × 2 columns</p>\n",
       "</div>"
      ],
      "text/plain": [
       "                                 x       f(x)\n",
       "0                           [0, 0]  36.000000\n",
       "1    [0.0, -0.0062500000741802855]  35.253906\n",
       "2     [0.0, -0.012434895981697294]  34.523275\n",
       "3     [0.0, -0.017681013032621724]  33.909540\n",
       "4     [0.0, -0.023746835896878003]  33.206771\n",
       "..                             ...        ...\n",
       "97      [0.0, -0.3732321611128912]   5.142365\n",
       "98     [0.0, -0.37554611872854765]   5.037954\n",
       "99     [0.0, -0.37779065761677066]   4.937699\n",
       "100    [0.0, -0.38001275111536637]   4.839439\n",
       "101     [0.0, -0.3822575190389962]   4.741179\n",
       "\n",
       "[102 rows x 2 columns]"
      ]
     },
     "execution_count": 11,
     "metadata": {},
     "output_type": "execute_result"
    }
   ],
   "source": [
    "#problem 4\n",
    "x_values, f_values = descent(lambda x: polynomial(coeffs_4, x), \n",
    "                             lambda x: gradient_poly(coeffs_4, x), p, x_0, alpha, num_iter, 'newton', hessian=lambda x: hessian_poly(coeffs_4, x))\n",
    "\n",
    "data = pd.DataFrame({'x': x_values, 'f(x)': f_values})\n",
    "data"
   ]
  },
  {
   "cell_type": "code",
   "execution_count": 12,
   "metadata": {},
   "outputs": [
    {
     "name": "stdout",
     "output_type": "stream",
     "text": [
      "alpha = 0.005\n",
      "alpha = 0.0025\n",
      "alpha = 0.00125\n",
      "alpha = 0.000625\n",
      "alpha = 0.0003125\n",
      "alpha = 0.00015625\n",
      "alpha = 7.8125e-05\n",
      "alpha = 3.90625e-05\n",
      "alpha = 1.953125e-05\n",
      "alpha = 9.765625e-06\n",
      "alpha = 4.8828125e-06\n",
      "alpha = 2.44140625e-06\n",
      "alpha = 1.220703125e-06\n",
      "alpha = 6.103515625e-07\n",
      "alpha = 3.0517578125e-07\n",
      "alpha = 1.52587890625e-07\n",
      "alpha = 7.62939453125e-08\n",
      "alpha = 3.814697265625e-08\n",
      "alpha = 1.9073486328125e-08\n",
      "alpha = 9.5367431640625e-09\n",
      "alpha = 4.76837158203125e-09\n",
      "alpha = 2.384185791015625e-09\n"
     ]
    },
    {
     "data": {
      "text/html": [
       "<div>\n",
       "<style scoped>\n",
       "    .dataframe tbody tr th:only-of-type {\n",
       "        vertical-align: middle;\n",
       "    }\n",
       "\n",
       "    .dataframe tbody tr th {\n",
       "        vertical-align: top;\n",
       "    }\n",
       "\n",
       "    .dataframe thead th {\n",
       "        text-align: right;\n",
       "    }\n",
       "</style>\n",
       "<table border=\"1\" class=\"dataframe\">\n",
       "  <thead>\n",
       "    <tr style=\"text-align: right;\">\n",
       "      <th></th>\n",
       "      <th>x</th>\n",
       "      <th>f(x)</th>\n",
       "    </tr>\n",
       "  </thead>\n",
       "  <tbody>\n",
       "    <tr>\n",
       "      <th>0</th>\n",
       "      <td>[0, 0]</td>\n",
       "      <td>25.000000</td>\n",
       "    </tr>\n",
       "    <tr>\n",
       "      <th>1</th>\n",
       "      <td>[0.0, -0.012500000070599555]</td>\n",
       "      <td>24.502500</td>\n",
       "    </tr>\n",
       "    <tr>\n",
       "      <th>2</th>\n",
       "      <td>[0.0, -0.02075000009868313]</td>\n",
       "      <td>24.176889</td>\n",
       "    </tr>\n",
       "    <tr>\n",
       "      <th>3</th>\n",
       "      <td>[0.0, -0.03304250015861869]</td>\n",
       "      <td>23.695769</td>\n",
       "    </tr>\n",
       "    <tr>\n",
       "      <th>4</th>\n",
       "      <td>[0.0, -0.041155550170709064]</td>\n",
       "      <td>23.380878</td>\n",
       "    </tr>\n",
       "    <tr>\n",
       "      <th>5</th>\n",
       "      <td>[0.0, -0.04921451318967271]</td>\n",
       "      <td>23.070173</td>\n",
       "    </tr>\n",
       "    <tr>\n",
       "      <th>6</th>\n",
       "      <td>[0.0, -0.05721974977393991]</td>\n",
       "      <td>22.763596</td>\n",
       "    </tr>\n",
       "    <tr>\n",
       "      <th>7</th>\n",
       "      <td>[0.0, -0.0691475523329261]</td>\n",
       "      <td>22.310600</td>\n",
       "    </tr>\n",
       "    <tr>\n",
       "      <th>8</th>\n",
       "      <td>[0.0, -0.07701990200082198]</td>\n",
       "      <td>22.014117</td>\n",
       "    </tr>\n",
       "    <tr>\n",
       "      <th>9</th>\n",
       "      <td>[0.0, -0.08483976933196924]</td>\n",
       "      <td>21.721574</td>\n",
       "    </tr>\n",
       "    <tr>\n",
       "      <th>10</th>\n",
       "      <td>[0.0, -0.09649137171575639]</td>\n",
       "      <td>21.289314</td>\n",
       "    </tr>\n",
       "    <tr>\n",
       "      <th>11</th>\n",
       "      <td>[0.0, -0.10802645804590336]</td>\n",
       "      <td>20.865657</td>\n",
       "    </tr>\n",
       "    <tr>\n",
       "      <th>12</th>\n",
       "      <td>[0.0, -0.11944619351870932]</td>\n",
       "      <td>20.450431</td>\n",
       "    </tr>\n",
       "    <tr>\n",
       "      <th>13</th>\n",
       "      <td>[0.0, -0.12698321892906284]</td>\n",
       "      <td>20.178667</td>\n",
       "    </tr>\n",
       "    <tr>\n",
       "      <th>14</th>\n",
       "      <td>[0.0, -0.1382133868211089]</td>\n",
       "      <td>19.777112</td>\n",
       "    </tr>\n",
       "    <tr>\n",
       "      <th>15</th>\n",
       "      <td>[0.0, -0.14562529761175658]</td>\n",
       "      <td>19.514296</td>\n",
       "    </tr>\n",
       "    <tr>\n",
       "      <th>16</th>\n",
       "      <td>[0.0, -0.15298779565519038]</td>\n",
       "      <td>19.254972</td>\n",
       "    </tr>\n",
       "    <tr>\n",
       "      <th>17</th>\n",
       "      <td>[0.0, -0.16395791779538843]</td>\n",
       "      <td>18.871798</td>\n",
       "    </tr>\n",
       "    <tr>\n",
       "      <th>18</th>\n",
       "      <td>[0.0, -0.1856787596068213]</td>\n",
       "      <td>18.124475</td>\n",
       "    </tr>\n",
       "    <tr>\n",
       "      <th>19</th>\n",
       "      <td>[0.0, -0.19277423455382875]</td>\n",
       "      <td>17.883621</td>\n",
       "    </tr>\n",
       "    <tr>\n",
       "      <th>20</th>\n",
       "      <td>[0.0, -0.21391875011459185]</td>\n",
       "      <td>17.175430</td>\n",
       "    </tr>\n",
       "    <tr>\n",
       "      <th>21</th>\n",
       "      <td>[0.0, -0.23464037534029783]</td>\n",
       "      <td>16.495283</td>\n",
       "    </tr>\n",
       "    <tr>\n",
       "      <th>22</th>\n",
       "      <td>[0.0, -0.24479397166383363]</td>\n",
       "      <td>16.167027</td>\n",
       "    </tr>\n",
       "    <tr>\n",
       "      <th>23</th>\n",
       "      <td>[0.0, -0.2548460319965669]</td>\n",
       "      <td>15.845303</td>\n",
       "    </tr>\n",
       "    <tr>\n",
       "      <th>24</th>\n",
       "      <td>[-0.11920928955078125, -0.26479757174087404]</td>\n",
       "      <td>15.568900</td>\n",
       "    </tr>\n",
       "    <tr>\n",
       "      <th>25</th>\n",
       "      <td>[-0.11855797544203156, -0.2746495960918359]</td>\n",
       "      <td>15.259514</td>\n",
       "    </tr>\n",
       "    <tr>\n",
       "      <th>26</th>\n",
       "      <td>[-0.11920819088979333, -0.28440310018624965]</td>\n",
       "      <td>14.956956</td>\n",
       "    </tr>\n",
       "    <tr>\n",
       "      <th>27</th>\n",
       "      <td>[0.005019747268789801, -0.28440310248841205]</td>\n",
       "      <td>14.918140</td>\n",
       "    </tr>\n",
       "    <tr>\n",
       "      <th>28</th>\n",
       "      <td>[0.0050197472565494585, -0.284403104330142]</td>\n",
       "      <td>14.918140</td>\n",
       "    </tr>\n",
       "  </tbody>\n",
       "</table>\n",
       "</div>"
      ],
      "text/plain": [
       "                                               x       f(x)\n",
       "0                                         [0, 0]  25.000000\n",
       "1                   [0.0, -0.012500000070599555]  24.502500\n",
       "2                    [0.0, -0.02075000009868313]  24.176889\n",
       "3                    [0.0, -0.03304250015861869]  23.695769\n",
       "4                   [0.0, -0.041155550170709064]  23.380878\n",
       "5                    [0.0, -0.04921451318967271]  23.070173\n",
       "6                    [0.0, -0.05721974977393991]  22.763596\n",
       "7                     [0.0, -0.0691475523329261]  22.310600\n",
       "8                    [0.0, -0.07701990200082198]  22.014117\n",
       "9                    [0.0, -0.08483976933196924]  21.721574\n",
       "10                   [0.0, -0.09649137171575639]  21.289314\n",
       "11                   [0.0, -0.10802645804590336]  20.865657\n",
       "12                   [0.0, -0.11944619351870932]  20.450431\n",
       "13                   [0.0, -0.12698321892906284]  20.178667\n",
       "14                    [0.0, -0.1382133868211089]  19.777112\n",
       "15                   [0.0, -0.14562529761175658]  19.514296\n",
       "16                   [0.0, -0.15298779565519038]  19.254972\n",
       "17                   [0.0, -0.16395791779538843]  18.871798\n",
       "18                    [0.0, -0.1856787596068213]  18.124475\n",
       "19                   [0.0, -0.19277423455382875]  17.883621\n",
       "20                   [0.0, -0.21391875011459185]  17.175430\n",
       "21                   [0.0, -0.23464037534029783]  16.495283\n",
       "22                   [0.0, -0.24479397166383363]  16.167027\n",
       "23                    [0.0, -0.2548460319965669]  15.845303\n",
       "24  [-0.11920928955078125, -0.26479757174087404]  15.568900\n",
       "25   [-0.11855797544203156, -0.2746495960918359]  15.259514\n",
       "26  [-0.11920819088979333, -0.28440310018624965]  14.956956\n",
       "27  [0.005019747268789801, -0.28440310248841205]  14.918140\n",
       "28   [0.0050197472565494585, -0.284403104330142]  14.918140"
      ]
     },
     "execution_count": 12,
     "metadata": {},
     "output_type": "execute_result"
    }
   ],
   "source": [
    "# problem 5\n",
    "x_values, f_values = descent(lambda x: polynomial(coeffs_5, x), \n",
    "                             lambda x: gradient_poly(coeffs_5, x), p, x_0, alpha, num_iter, 'newton', hessian=lambda x: hessian_poly(coeffs_5, x))\n",
    "\n",
    "data = pd.DataFrame({'x': x_values, 'f(x)': f_values})\n",
    "data"
   ]
  }
 ],
 "metadata": {
  "kernelspec": {
   "display_name": "jku_gpu",
   "language": "python",
   "name": "python3"
  },
  "language_info": {
   "codemirror_mode": {
    "name": "ipython",
    "version": 3
   },
   "file_extension": ".py",
   "mimetype": "text/x-python",
   "name": "python",
   "nbconvert_exporter": "python",
   "pygments_lexer": "ipython3",
   "version": "3.10.9"
  }
 },
 "nbformat": 4,
 "nbformat_minor": 2
}
