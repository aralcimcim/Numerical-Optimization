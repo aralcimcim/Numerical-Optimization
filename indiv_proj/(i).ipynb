{
 "cells": [
  {
   "cell_type": "code",
   "execution_count": 1,
   "metadata": {},
   "outputs": [],
   "source": [
    "import numpy as np\n",
    "import sympy as sp\n",
    "import pandas as pd\n",
    "from mpmath import mp\n",
    "from scipy.linalg import hilbert\n",
    "from IPython.display import display, Math\n",
    "from helper_funcs import *\n",
    "from func_list import *\n",
    "\n",
    "mp.dps = 100"
   ]
  },
  {
   "cell_type": "markdown",
   "metadata": {},
   "source": [
    "**(i)**\n",
    "\n",
    "Steepest Descent(SD) --> task 1-5\n",
    "\n",
    "Newton's Method(NM) --> task 6-10"
   ]
  },
  {
   "cell_type": "code",
   "execution_count": 2,
   "metadata": {},
   "outputs": [],
   "source": [
    "functions = {\n",
    "    'func1': func1,\n",
    "    'func2': func2,\n",
    "    'func3': func3,\n",
    "    'func4': func4,\n",
    "    'func5': func5\n",
    "}\n",
    "\n",
    "gradients = {\n",
    "    'func1': grad1,\n",
    "    'func2': grad2,\n",
    "    'func3': grad3,\n",
    "    'func4': grad4,\n",
    "    'func5': grad5\n",
    "}\n",
    "\n",
    "hessians = {\n",
    "    'func1': hessian1,\n",
    "    'func2': hessian2,\n",
    "    'func3': hessian3,\n",
    "    'func4': hessian4,\n",
    "    'func5': hessian5\n",
    "}"
   ]
  },
  {
   "cell_type": "code",
   "execution_count": 3,
   "metadata": {},
   "outputs": [
    {
     "data": {
      "text/latex": [
       "$\\displaystyle f(x) = x^3 - 3x^2 + 2x - 1$"
      ],
      "text/plain": [
       "<IPython.core.display.Math object>"
      ]
     },
     "metadata": {},
     "output_type": "display_data"
    },
    {
     "data": {
      "text/latex": [
       "$\\displaystyle f(x) = x^4 - 6x^2 + 9$"
      ],
      "text/plain": [
       "<IPython.core.display.Math object>"
      ]
     },
     "metadata": {},
     "output_type": "display_data"
    },
    {
     "data": {
      "text/latex": [
       "$\\displaystyle f(x) = x^5 - 10x^3 + 25x$"
      ],
      "text/plain": [
       "<IPython.core.display.Math object>"
      ]
     },
     "metadata": {},
     "output_type": "display_data"
    },
    {
     "data": {
      "text/latex": [
       "$\\displaystyle f(x) = x^4 - 12x^2 + 36$"
      ],
      "text/plain": [
       "<IPython.core.display.Math object>"
      ]
     },
     "metadata": {},
     "output_type": "display_data"
    },
    {
     "data": {
      "text/latex": [
       "$\\displaystyle f(x) = x^3 - 6x^2 + 9$"
      ],
      "text/plain": [
       "<IPython.core.display.Math object>"
      ]
     },
     "metadata": {},
     "output_type": "display_data"
    },
    {
     "data": {
      "text/latex": [
       "$\\displaystyle \\nabla f_1 = 3*x**2 - 6*x + 2$"
      ],
      "text/plain": [
       "<IPython.core.display.Math object>"
      ]
     },
     "metadata": {},
     "output_type": "display_data"
    },
    {
     "data": {
      "text/latex": [
       "$\\displaystyle H_1 = 6*x - 6$"
      ],
      "text/plain": [
       "<IPython.core.display.Math object>"
      ]
     },
     "metadata": {},
     "output_type": "display_data"
    },
    {
     "data": {
      "text/latex": [
       "$\\displaystyle x^* = [1 - sqrt(3)/3, sqrt(3)/3 + 1]$"
      ],
      "text/plain": [
       "<IPython.core.display.Math object>"
      ]
     },
     "metadata": {},
     "output_type": "display_data"
    },
    {
     "data": {
      "text/latex": [
       "$\\displaystyle \\nabla f_2 = 4*x**3 - 12*x$"
      ],
      "text/plain": [
       "<IPython.core.display.Math object>"
      ]
     },
     "metadata": {},
     "output_type": "display_data"
    },
    {
     "data": {
      "text/latex": [
       "$\\displaystyle H_2 = 12*x**2 - 12$"
      ],
      "text/plain": [
       "<IPython.core.display.Math object>"
      ]
     },
     "metadata": {},
     "output_type": "display_data"
    },
    {
     "data": {
      "text/latex": [
       "$\\displaystyle x^* = [0, -sqrt(3), sqrt(3)]$"
      ],
      "text/plain": [
       "<IPython.core.display.Math object>"
      ]
     },
     "metadata": {},
     "output_type": "display_data"
    },
    {
     "data": {
      "text/latex": [
       "$\\displaystyle \\nabla f_3 = 5*x**4 - 30*x**2 + 25$"
      ],
      "text/plain": [
       "<IPython.core.display.Math object>"
      ]
     },
     "metadata": {},
     "output_type": "display_data"
    },
    {
     "data": {
      "text/latex": [
       "$\\displaystyle H_3 = 20*x**3 - 60*x$"
      ],
      "text/plain": [
       "<IPython.core.display.Math object>"
      ]
     },
     "metadata": {},
     "output_type": "display_data"
    },
    {
     "data": {
      "text/latex": [
       "$\\displaystyle x^* = [-1, 1, -sqrt(5), sqrt(5)]$"
      ],
      "text/plain": [
       "<IPython.core.display.Math object>"
      ]
     },
     "metadata": {},
     "output_type": "display_data"
    },
    {
     "data": {
      "text/latex": [
       "$\\displaystyle \\nabla f_4 = 4*x**3 - 24*x$"
      ],
      "text/plain": [
       "<IPython.core.display.Math object>"
      ]
     },
     "metadata": {},
     "output_type": "display_data"
    },
    {
     "data": {
      "text/latex": [
       "$\\displaystyle H_4 = 12*x**2 - 24$"
      ],
      "text/plain": [
       "<IPython.core.display.Math object>"
      ]
     },
     "metadata": {},
     "output_type": "display_data"
    },
    {
     "data": {
      "text/latex": [
       "$\\displaystyle x^* = [0, -sqrt(6), sqrt(6)]$"
      ],
      "text/plain": [
       "<IPython.core.display.Math object>"
      ]
     },
     "metadata": {},
     "output_type": "display_data"
    },
    {
     "data": {
      "text/latex": [
       "$\\displaystyle \\nabla f_5 = 3*x**2 - 12*x$"
      ],
      "text/plain": [
       "<IPython.core.display.Math object>"
      ]
     },
     "metadata": {},
     "output_type": "display_data"
    },
    {
     "data": {
      "text/latex": [
       "$\\displaystyle H_5 = 6*x - 12$"
      ],
      "text/plain": [
       "<IPython.core.display.Math object>"
      ]
     },
     "metadata": {},
     "output_type": "display_data"
    },
    {
     "data": {
      "text/latex": [
       "$\\displaystyle x^* = [0, 4]$"
      ],
      "text/plain": [
       "<IPython.core.display.Math object>"
      ]
     },
     "metadata": {},
     "output_type": "display_data"
    }
   ],
   "source": [
    "display(Math(r'f(x) = x^3 - 3x^2 + 2x - 1'))\n",
    "display(Math(r'f(x) = x^4 - 6x^2 + 9'))\n",
    "display(Math(r'f(x) = x^5 - 10x^3 + 25x'))\n",
    "display(Math(r'f(x) = x^4 - 12x^2 + 36'))\n",
    "display(Math(r'f(x) = x^3 - 6x^2 + 9'))\n",
    "\n",
    "x = sp.symbols('x')\n",
    "f1 = x**3 - 3*x**2 + 2*x - 1\n",
    "f2 = x**4 - 6*x**2 + 9\n",
    "f3 = x**5 - 10*x**3 + 25*x\n",
    "f4 = x**4 - 12*x**2 + 36\n",
    "f5 = x**3 - 6*x**2 + 9\n",
    "\n",
    "functs = [f1, f2, f3, f4, f5]\n",
    "\n",
    "for i, f in enumerate(functs):\n",
    "    grad = sp.diff(f, x)\n",
    "    hess = sp.diff(grad, x)\n",
    "    stationary_points = sp.solve(grad, x)\n",
    "\n",
    "    display(Math(f'\\\\nabla f_{i+1} = {grad}'))\n",
    "    display(Math(f'H_{i+1} = {hess}'))\n",
    "    display(Math(f'x^* = {stationary_points}'))"
   ]
  },
  {
   "cell_type": "code",
   "execution_count": 4,
   "metadata": {},
   "outputs": [
    {
     "data": {
      "text/latex": [
       "$\\displaystyle f(x) = x^3 - 3x^2 + 2x - 1$"
      ],
      "text/plain": [
       "<IPython.core.display.Math object>"
      ]
     },
     "metadata": {},
     "output_type": "display_data"
    },
    {
     "data": {
      "text/latex": [
       "$\\displaystyle x^* = 1 - \\frac{\\sqrt{3}}{3}, 1 + \\frac{\\sqrt{3}}{3}$"
      ],
      "text/plain": [
       "<IPython.core.display.Math object>"
      ]
     },
     "metadata": {},
     "output_type": "display_data"
    },
    {
     "name": "stdout",
     "output_type": "stream",
     "text": [
      "alpha = 0.005\n",
      "alpha = 0.0025\n",
      "alpha = 0.00125\n",
      "alpha = 0.000625\n",
      "alpha = 0.0003125\n",
      "alpha = 0.00015625\n",
      "alpha = 7.8125e-05\n",
      "alpha = 3.90625e-05\n",
      "alpha = 1.953125e-05\n",
      "alpha = 9.765625e-06\n",
      "alpha = 4.8828125e-06\n",
      "alpha = 2.44140625e-06\n",
      "alpha = 1.220703125e-06\n",
      "alpha = 6.103515625e-07\n",
      "Stopping criterion (1e-06) reached at iteration 116\n"
     ]
    },
    {
     "data": {
      "text/html": [
       "<div>\n",
       "<style scoped>\n",
       "    .dataframe tbody tr th:only-of-type {\n",
       "        vertical-align: middle;\n",
       "    }\n",
       "\n",
       "    .dataframe tbody tr th {\n",
       "        vertical-align: top;\n",
       "    }\n",
       "\n",
       "    .dataframe thead th {\n",
       "        text-align: right;\n",
       "    }\n",
       "</style>\n",
       "<table border=\"1\" class=\"dataframe\">\n",
       "  <thead>\n",
       "    <tr style=\"text-align: right;\">\n",
       "      <th></th>\n",
       "      <th>x</th>\n",
       "      <th>f(x)</th>\n",
       "    </tr>\n",
       "  </thead>\n",
       "  <tbody>\n",
       "    <tr>\n",
       "      <th>0</th>\n",
       "      <td>0.500000</td>\n",
       "      <td>-0.625000</td>\n",
       "    </tr>\n",
       "    <tr>\n",
       "      <th>1</th>\n",
       "      <td>0.510000</td>\n",
       "      <td>-0.627649</td>\n",
       "    </tr>\n",
       "    <tr>\n",
       "      <th>2</th>\n",
       "      <td>0.520000</td>\n",
       "      <td>-0.630592</td>\n",
       "    </tr>\n",
       "    <tr>\n",
       "      <th>3</th>\n",
       "      <td>0.530000</td>\n",
       "      <td>-0.633823</td>\n",
       "    </tr>\n",
       "    <tr>\n",
       "      <th>4</th>\n",
       "      <td>0.540000</td>\n",
       "      <td>-0.637336</td>\n",
       "    </tr>\n",
       "    <tr>\n",
       "      <th>...</th>\n",
       "      <td>...</td>\n",
       "      <td>...</td>\n",
       "    </tr>\n",
       "    <tr>\n",
       "      <th>112</th>\n",
       "      <td>1.577354</td>\n",
       "      <td>-1.384900</td>\n",
       "    </tr>\n",
       "    <tr>\n",
       "      <th>113</th>\n",
       "      <td>1.577349</td>\n",
       "      <td>-1.384900</td>\n",
       "    </tr>\n",
       "    <tr>\n",
       "      <th>114</th>\n",
       "      <td>1.577351</td>\n",
       "      <td>-1.384900</td>\n",
       "    </tr>\n",
       "    <tr>\n",
       "      <th>115</th>\n",
       "      <td>1.577350</td>\n",
       "      <td>-1.384900</td>\n",
       "    </tr>\n",
       "    <tr>\n",
       "      <th>116</th>\n",
       "      <td>1.577350</td>\n",
       "      <td>-1.384900</td>\n",
       "    </tr>\n",
       "  </tbody>\n",
       "</table>\n",
       "<p>117 rows × 2 columns</p>\n",
       "</div>"
      ],
      "text/plain": [
       "            x      f(x)\n",
       "0    0.500000 -0.625000\n",
       "1    0.510000 -0.627649\n",
       "2    0.520000 -0.630592\n",
       "3    0.530000 -0.633823\n",
       "4    0.540000 -0.637336\n",
       "..        ...       ...\n",
       "112  1.577354 -1.384900\n",
       "113  1.577349 -1.384900\n",
       "114  1.577351 -1.384900\n",
       "115  1.577350 -1.384900\n",
       "116  1.577350 -1.384900\n",
       "\n",
       "[117 rows x 2 columns]"
      ]
     },
     "execution_count": 4,
     "metadata": {},
     "output_type": "execute_result"
    }
   ],
   "source": [
    "# function 1 with steepest descent\n",
    "display(Math(r'f(x) = x^3 - 3x^2 + 2x - 1'))\n",
    "display(Math(r'x^* = 1 - \\frac{\\sqrt{3}}{3}, 1 + \\frac{\\sqrt{3}}{3}'))\n",
    "\n",
    "x_values, f_values = descent(func1, grad1, p, x_0=0.5, alpha=0.01, num_iter=10000, method='steepest descent')\n",
    "data = pd.DataFrame({'x': x_values, 'f(x)': f_values})\n",
    "data"
   ]
  },
  {
   "cell_type": "code",
   "execution_count": 5,
   "metadata": {},
   "outputs": [
    {
     "name": "stdout",
     "output_type": "stream",
     "text": [
      "alpha = 0.05\n",
      "alpha = 0.025\n",
      "alpha = 0.0125\n",
      "alpha = 0.00625\n",
      "alpha = 0.003125\n",
      "alpha = 0.0015625\n",
      "alpha = 0.00078125\n",
      "alpha = 0.000390625\n",
      "alpha = 0.0001953125\n",
      "alpha = 9.765625e-05\n",
      "alpha = 4.8828125e-05\n",
      "alpha = 2.44140625e-05\n",
      "alpha = 1.220703125e-05\n",
      "alpha = 6.103515625e-06\n",
      "alpha = 3.0517578125e-06\n",
      "alpha = 1.52587890625e-06\n",
      "alpha = 7.62939453125e-07\n",
      "alpha = 3.814697265625e-07\n",
      "alpha = 1.9073486328125e-07\n",
      "alpha = 9.5367431640625e-08\n",
      "alpha = 4.76837158203125e-08\n",
      "alpha = 2.384185791015625e-08\n",
      "alpha = 1.1920928955078126e-08\n",
      "alpha = 5.960464477539063e-09\n",
      "alpha = 2.9802322387695314e-09\n",
      "alpha = 1.4901161193847657e-09\n",
      "alpha = 7.450580596923829e-10\n",
      "alpha = 3.7252902984619143e-10\n",
      "alpha = 1.8626451492309571e-10\n",
      "alpha = 9.313225746154786e-11\n",
      "alpha = 4.656612873077393e-11\n",
      "alpha = 2.3283064365386964e-11\n",
      "alpha = 1.1641532182693482e-11\n",
      "alpha = 5.820766091346741e-12\n",
      "alpha = 2.9103830456733705e-12\n",
      "alpha = 1.4551915228366853e-12\n",
      "alpha = 7.275957614183426e-13\n",
      "alpha = 3.637978807091713e-13\n",
      "alpha = 1.8189894035458566e-13\n",
      "alpha = 9.094947017729283e-14\n",
      "alpha = 4.5474735088646414e-14\n",
      "alpha = 2.2737367544323207e-14\n",
      "alpha = 1.1368683772161604e-14\n",
      "alpha = 5.684341886080802e-15\n",
      "alpha = 2.842170943040401e-15\n",
      "alpha = 1.4210854715202005e-15\n",
      "alpha = 7.105427357601002e-16\n",
      "alpha = 3.552713678800501e-16\n"
     ]
    },
    {
     "data": {
      "text/html": [
       "<div>\n",
       "<style scoped>\n",
       "    .dataframe tbody tr th:only-of-type {\n",
       "        vertical-align: middle;\n",
       "    }\n",
       "\n",
       "    .dataframe tbody tr th {\n",
       "        vertical-align: top;\n",
       "    }\n",
       "\n",
       "    .dataframe thead th {\n",
       "        text-align: right;\n",
       "    }\n",
       "</style>\n",
       "<table border=\"1\" class=\"dataframe\">\n",
       "  <thead>\n",
       "    <tr style=\"text-align: right;\">\n",
       "      <th></th>\n",
       "      <th>x</th>\n",
       "      <th>f(x)</th>\n",
       "    </tr>\n",
       "  </thead>\n",
       "  <tbody>\n",
       "    <tr>\n",
       "      <th>0</th>\n",
       "      <td>0.500000</td>\n",
       "      <td>-0.625000</td>\n",
       "    </tr>\n",
       "    <tr>\n",
       "      <th>1</th>\n",
       "      <td>0.491667</td>\n",
       "      <td>-0.623021</td>\n",
       "    </tr>\n",
       "    <tr>\n",
       "      <th>2</th>\n",
       "      <td>0.491667</td>\n",
       "      <td>-0.623021</td>\n",
       "    </tr>\n",
       "    <tr>\n",
       "      <th>3</th>\n",
       "      <td>0.491667</td>\n",
       "      <td>-0.623021</td>\n",
       "    </tr>\n",
       "    <tr>\n",
       "      <th>4</th>\n",
       "      <td>0.491667</td>\n",
       "      <td>-0.623021</td>\n",
       "    </tr>\n",
       "    <tr>\n",
       "      <th>...</th>\n",
       "      <td>...</td>\n",
       "      <td>...</td>\n",
       "    </tr>\n",
       "    <tr>\n",
       "      <th>9997</th>\n",
       "      <td>0.491667</td>\n",
       "      <td>-0.623021</td>\n",
       "    </tr>\n",
       "    <tr>\n",
       "      <th>9998</th>\n",
       "      <td>0.491667</td>\n",
       "      <td>-0.623021</td>\n",
       "    </tr>\n",
       "    <tr>\n",
       "      <th>9999</th>\n",
       "      <td>0.491667</td>\n",
       "      <td>-0.623021</td>\n",
       "    </tr>\n",
       "    <tr>\n",
       "      <th>10000</th>\n",
       "      <td>0.491667</td>\n",
       "      <td>-0.623021</td>\n",
       "    </tr>\n",
       "    <tr>\n",
       "      <th>10001</th>\n",
       "      <td>0.491667</td>\n",
       "      <td>-0.623021</td>\n",
       "    </tr>\n",
       "  </tbody>\n",
       "</table>\n",
       "<p>10002 rows × 2 columns</p>\n",
       "</div>"
      ],
      "text/plain": [
       "              x      f(x)\n",
       "0      0.500000 -0.625000\n",
       "1      0.491667 -0.623021\n",
       "2      0.491667 -0.623021\n",
       "3      0.491667 -0.623021\n",
       "4      0.491667 -0.623021\n",
       "...         ...       ...\n",
       "9997   0.491667 -0.623021\n",
       "9998   0.491667 -0.623021\n",
       "9999   0.491667 -0.623021\n",
       "10000  0.491667 -0.623021\n",
       "10001  0.491667 -0.623021\n",
       "\n",
       "[10002 rows x 2 columns]"
      ]
     },
     "execution_count": 5,
     "metadata": {},
     "output_type": "execute_result"
    }
   ],
   "source": [
    "# function 1 with Newton's method\n",
    "hessian = hessians['func1']\n",
    "x_values, f_values = descent(func1, grad1, p, x_0=0.5, alpha=0.1, num_iter=10000, method='newton', hessian=hessian)\n",
    "data = pd.DataFrame({'x': x_values, 'f(x)': f_values})\n",
    "data"
   ]
  },
  {
   "cell_type": "code",
   "execution_count": 6,
   "metadata": {},
   "outputs": [
    {
     "data": {
      "text/latex": [
       "$\\displaystyle f(x) = x^4 - 6x^2 + 9$"
      ],
      "text/plain": [
       "<IPython.core.display.Math object>"
      ]
     },
     "metadata": {},
     "output_type": "display_data"
    },
    {
     "data": {
      "text/latex": [
       "$\\displaystyle x^* = -\\sqrt{3}, \\sqrt{3}, 0$"
      ],
      "text/plain": [
       "<IPython.core.display.Math object>"
      ]
     },
     "metadata": {},
     "output_type": "display_data"
    },
    {
     "name": "stdout",
     "output_type": "stream",
     "text": [
      "alpha = 0.005\n",
      "alpha = 0.0025\n",
      "alpha = 0.00125\n",
      "alpha = 0.000625\n",
      "alpha = 0.0003125\n",
      "alpha = 0.00015625\n",
      "alpha = 7.8125e-05\n",
      "alpha = 3.90625e-05\n",
      "alpha = 1.953125e-05\n",
      "Stopping criterion (1e-06) reached at iteration 169\n"
     ]
    },
    {
     "data": {
      "text/html": [
       "<div>\n",
       "<style scoped>\n",
       "    .dataframe tbody tr th:only-of-type {\n",
       "        vertical-align: middle;\n",
       "    }\n",
       "\n",
       "    .dataframe tbody tr th {\n",
       "        vertical-align: top;\n",
       "    }\n",
       "\n",
       "    .dataframe thead th {\n",
       "        text-align: right;\n",
       "    }\n",
       "</style>\n",
       "<table border=\"1\" class=\"dataframe\">\n",
       "  <thead>\n",
       "    <tr style=\"text-align: right;\">\n",
       "      <th></th>\n",
       "      <th>x</th>\n",
       "      <th>f(x)</th>\n",
       "    </tr>\n",
       "  </thead>\n",
       "  <tbody>\n",
       "    <tr>\n",
       "      <th>0</th>\n",
       "      <td>0.100000</td>\n",
       "      <td>8.940100e+00</td>\n",
       "    </tr>\n",
       "    <tr>\n",
       "      <th>1</th>\n",
       "      <td>0.110000</td>\n",
       "      <td>8.927546e+00</td>\n",
       "    </tr>\n",
       "    <tr>\n",
       "      <th>2</th>\n",
       "      <td>0.120000</td>\n",
       "      <td>8.913807e+00</td>\n",
       "    </tr>\n",
       "    <tr>\n",
       "      <th>3</th>\n",
       "      <td>0.130000</td>\n",
       "      <td>8.898886e+00</td>\n",
       "    </tr>\n",
       "    <tr>\n",
       "      <th>4</th>\n",
       "      <td>0.140000</td>\n",
       "      <td>8.882784e+00</td>\n",
       "    </tr>\n",
       "    <tr>\n",
       "      <th>...</th>\n",
       "      <td>...</td>\n",
       "      <td>...</td>\n",
       "    </tr>\n",
       "    <tr>\n",
       "      <th>165</th>\n",
       "      <td>1.731875</td>\n",
       "      <td>3.708620e-07</td>\n",
       "    </tr>\n",
       "    <tr>\n",
       "      <th>166</th>\n",
       "      <td>1.732188</td>\n",
       "      <td>2.242355e-07</td>\n",
       "    </tr>\n",
       "    <tr>\n",
       "      <th>167</th>\n",
       "      <td>1.732031</td>\n",
       "      <td>4.589932e-09</td>\n",
       "    </tr>\n",
       "    <tr>\n",
       "      <th>168</th>\n",
       "      <td>1.732070</td>\n",
       "      <td>4.565360e-09</td>\n",
       "    </tr>\n",
       "    <tr>\n",
       "      <th>169</th>\n",
       "      <td>1.732051</td>\n",
       "      <td>8.881784e-15</td>\n",
       "    </tr>\n",
       "  </tbody>\n",
       "</table>\n",
       "<p>170 rows × 2 columns</p>\n",
       "</div>"
      ],
      "text/plain": [
       "            x          f(x)\n",
       "0    0.100000  8.940100e+00\n",
       "1    0.110000  8.927546e+00\n",
       "2    0.120000  8.913807e+00\n",
       "3    0.130000  8.898886e+00\n",
       "4    0.140000  8.882784e+00\n",
       "..        ...           ...\n",
       "165  1.731875  3.708620e-07\n",
       "166  1.732188  2.242355e-07\n",
       "167  1.732031  4.589932e-09\n",
       "168  1.732070  4.565360e-09\n",
       "169  1.732051  8.881784e-15\n",
       "\n",
       "[170 rows x 2 columns]"
      ]
     },
     "execution_count": 6,
     "metadata": {},
     "output_type": "execute_result"
    }
   ],
   "source": [
    "# function 2 with steepest descent\n",
    "display(Math(r'f(x) = x^4 - 6x^2 + 9'))\n",
    "display(Math(r'x^* = -\\sqrt{3}, \\sqrt{3}, 0'))\n",
    "\n",
    "x_values, f_values = descent(func2, grad2, p, x_0=0.1, alpha=0.01, num_iter=10000, method='steepest descent')\n",
    "data = pd.DataFrame({'x': x_values, 'f(x)': f_values})\n",
    "data"
   ]
  },
  {
   "cell_type": "code",
   "execution_count": 10,
   "metadata": {},
   "outputs": [
    {
     "name": "stdout",
     "output_type": "stream",
     "text": [
      "alpha = 0.005\n",
      "alpha = 0.0025\n",
      "alpha = 0.00125\n",
      "alpha = 0.000625\n",
      "alpha = 0.0003125\n",
      "alpha = 0.00015625\n",
      "alpha = 7.8125e-05\n",
      "alpha = 3.90625e-05\n",
      "alpha = 1.953125e-05\n",
      "alpha = 9.765625e-06\n",
      "alpha = 4.8828125e-06\n",
      "alpha = 2.44140625e-06\n",
      "alpha = 1.220703125e-06\n",
      "alpha = 6.103515625e-07\n",
      "alpha = 3.0517578125e-07\n",
      "alpha = 1.52587890625e-07\n",
      "alpha = 7.62939453125e-08\n",
      "alpha = 3.814697265625e-08\n",
      "alpha = 1.9073486328125e-08\n",
      "alpha = 9.5367431640625e-09\n",
      "alpha = 4.76837158203125e-09\n",
      "alpha = 2.384185791015625e-09\n",
      "alpha = 1.1920928955078125e-09\n",
      "alpha = 5.960464477539063e-10\n",
      "alpha = 2.9802322387695313e-10\n",
      "alpha = 1.4901161193847657e-10\n",
      "alpha = 7.450580596923828e-11\n",
      "alpha = 3.725290298461914e-11\n",
      "alpha = 1.862645149230957e-11\n",
      "alpha = 9.313225746154785e-12\n",
      "alpha = 4.656612873077393e-12\n",
      "alpha = 2.3283064365386963e-12\n",
      "alpha = 1.1641532182693482e-12\n",
      "alpha = 5.820766091346741e-13\n",
      "alpha = 2.9103830456733704e-13\n",
      "alpha = 1.4551915228366852e-13\n",
      "alpha = 7.275957614183426e-14\n",
      "alpha = 3.637978807091713e-14\n",
      "alpha = 1.8189894035458565e-14\n",
      "alpha = 9.094947017729283e-15\n",
      "alpha = 4.547473508864641e-15\n",
      "alpha = 2.2737367544323206e-15\n",
      "alpha = 1.1368683772161603e-15\n",
      "alpha = 5.684341886080802e-16\n",
      "alpha = 2.842170943040401e-16\n",
      "alpha = 1.4210854715202004e-16\n",
      "alpha = 7.105427357601002e-17\n",
      "alpha = 3.552713678800501e-17\n"
     ]
    },
    {
     "data": {
      "text/html": [
       "<div>\n",
       "<style scoped>\n",
       "    .dataframe tbody tr th:only-of-type {\n",
       "        vertical-align: middle;\n",
       "    }\n",
       "\n",
       "    .dataframe tbody tr th {\n",
       "        vertical-align: top;\n",
       "    }\n",
       "\n",
       "    .dataframe thead th {\n",
       "        text-align: right;\n",
       "    }\n",
       "</style>\n",
       "<table border=\"1\" class=\"dataframe\">\n",
       "  <thead>\n",
       "    <tr style=\"text-align: right;\">\n",
       "      <th></th>\n",
       "      <th>x</th>\n",
       "      <th>f(x)</th>\n",
       "    </tr>\n",
       "  </thead>\n",
       "  <tbody>\n",
       "    <tr>\n",
       "      <th>0</th>\n",
       "      <td>0.100000</td>\n",
       "      <td>8.940100</td>\n",
       "    </tr>\n",
       "    <tr>\n",
       "      <th>1</th>\n",
       "      <td>0.098993</td>\n",
       "      <td>8.941298</td>\n",
       "    </tr>\n",
       "    <tr>\n",
       "      <th>2</th>\n",
       "      <td>0.098993</td>\n",
       "      <td>8.941298</td>\n",
       "    </tr>\n",
       "    <tr>\n",
       "      <th>3</th>\n",
       "      <td>0.098993</td>\n",
       "      <td>8.941298</td>\n",
       "    </tr>\n",
       "    <tr>\n",
       "      <th>4</th>\n",
       "      <td>0.098993</td>\n",
       "      <td>8.941298</td>\n",
       "    </tr>\n",
       "    <tr>\n",
       "      <th>...</th>\n",
       "      <td>...</td>\n",
       "      <td>...</td>\n",
       "    </tr>\n",
       "    <tr>\n",
       "      <th>9997</th>\n",
       "      <td>0.098993</td>\n",
       "      <td>8.941298</td>\n",
       "    </tr>\n",
       "    <tr>\n",
       "      <th>9998</th>\n",
       "      <td>0.098993</td>\n",
       "      <td>8.941298</td>\n",
       "    </tr>\n",
       "    <tr>\n",
       "      <th>9999</th>\n",
       "      <td>0.098993</td>\n",
       "      <td>8.941298</td>\n",
       "    </tr>\n",
       "    <tr>\n",
       "      <th>10000</th>\n",
       "      <td>0.098993</td>\n",
       "      <td>8.941298</td>\n",
       "    </tr>\n",
       "    <tr>\n",
       "      <th>10001</th>\n",
       "      <td>0.098993</td>\n",
       "      <td>8.941298</td>\n",
       "    </tr>\n",
       "  </tbody>\n",
       "</table>\n",
       "<p>10002 rows × 2 columns</p>\n",
       "</div>"
      ],
      "text/plain": [
       "              x      f(x)\n",
       "0      0.100000  8.940100\n",
       "1      0.098993  8.941298\n",
       "2      0.098993  8.941298\n",
       "3      0.098993  8.941298\n",
       "4      0.098993  8.941298\n",
       "...         ...       ...\n",
       "9997   0.098993  8.941298\n",
       "9998   0.098993  8.941298\n",
       "9999   0.098993  8.941298\n",
       "10000  0.098993  8.941298\n",
       "10001  0.098993  8.941298\n",
       "\n",
       "[10002 rows x 2 columns]"
      ]
     },
     "execution_count": 10,
     "metadata": {},
     "output_type": "execute_result"
    }
   ],
   "source": [
    "# function 2 with Newton's method\n",
    "hessian = hessians['func2']\n",
    "x_values, f_values = descent(func2, grad2, p, x_0=0.1, alpha=0.01, num_iter=10000, method='newton', hessian=hessian)\n",
    "data = pd.DataFrame({'x': x_values, 'f(x)': f_values})\n",
    "data"
   ]
  },
  {
   "cell_type": "code",
   "execution_count": 13,
   "metadata": {},
   "outputs": [
    {
     "data": {
      "text/latex": [
       "$\\displaystyle f(x) = x^5 - 10x^3 + 25x$"
      ],
      "text/plain": [
       "<IPython.core.display.Math object>"
      ]
     },
     "metadata": {},
     "output_type": "display_data"
    },
    {
     "data": {
      "text/latex": [
       "$\\displaystyle x^* = -1, 1, -\\sqrt{5}, \\sqrt{5}$"
      ],
      "text/plain": [
       "<IPython.core.display.Math object>"
      ]
     },
     "metadata": {},
     "output_type": "display_data"
    },
    {
     "name": "stdout",
     "output_type": "stream",
     "text": [
      "Stopping criterion (1e-06) reached at iteration 110\n"
     ]
    },
    {
     "data": {
      "text/html": [
       "<div>\n",
       "<style scoped>\n",
       "    .dataframe tbody tr th:only-of-type {\n",
       "        vertical-align: middle;\n",
       "    }\n",
       "\n",
       "    .dataframe tbody tr th {\n",
       "        vertical-align: top;\n",
       "    }\n",
       "\n",
       "    .dataframe thead th {\n",
       "        text-align: right;\n",
       "    }\n",
       "</style>\n",
       "<table border=\"1\" class=\"dataframe\">\n",
       "  <thead>\n",
       "    <tr style=\"text-align: right;\">\n",
       "      <th></th>\n",
       "      <th>x</th>\n",
       "      <th>f(x)</th>\n",
       "    </tr>\n",
       "  </thead>\n",
       "  <tbody>\n",
       "    <tr>\n",
       "      <th>0</th>\n",
       "      <td>0.10</td>\n",
       "      <td>2.490010</td>\n",
       "    </tr>\n",
       "    <tr>\n",
       "      <th>1</th>\n",
       "      <td>0.09</td>\n",
       "      <td>2.242716</td>\n",
       "    </tr>\n",
       "    <tr>\n",
       "      <th>2</th>\n",
       "      <td>0.08</td>\n",
       "      <td>1.994883</td>\n",
       "    </tr>\n",
       "    <tr>\n",
       "      <th>3</th>\n",
       "      <td>0.07</td>\n",
       "      <td>1.746572</td>\n",
       "    </tr>\n",
       "    <tr>\n",
       "      <th>4</th>\n",
       "      <td>0.06</td>\n",
       "      <td>1.497841</td>\n",
       "    </tr>\n",
       "    <tr>\n",
       "      <th>...</th>\n",
       "      <td>...</td>\n",
       "      <td>...</td>\n",
       "    </tr>\n",
       "    <tr>\n",
       "      <th>106</th>\n",
       "      <td>-0.96</td>\n",
       "      <td>-15.968013</td>\n",
       "    </tr>\n",
       "    <tr>\n",
       "      <th>107</th>\n",
       "      <td>-0.97</td>\n",
       "      <td>-15.982004</td>\n",
       "    </tr>\n",
       "    <tr>\n",
       "      <th>108</th>\n",
       "      <td>-0.98</td>\n",
       "      <td>-15.992001</td>\n",
       "    </tr>\n",
       "    <tr>\n",
       "      <th>109</th>\n",
       "      <td>-0.99</td>\n",
       "      <td>-15.998000</td>\n",
       "    </tr>\n",
       "    <tr>\n",
       "      <th>110</th>\n",
       "      <td>-1.00</td>\n",
       "      <td>-16.000000</td>\n",
       "    </tr>\n",
       "  </tbody>\n",
       "</table>\n",
       "<p>111 rows × 2 columns</p>\n",
       "</div>"
      ],
      "text/plain": [
       "        x       f(x)\n",
       "0    0.10   2.490010\n",
       "1    0.09   2.242716\n",
       "2    0.08   1.994883\n",
       "3    0.07   1.746572\n",
       "4    0.06   1.497841\n",
       "..    ...        ...\n",
       "106 -0.96 -15.968013\n",
       "107 -0.97 -15.982004\n",
       "108 -0.98 -15.992001\n",
       "109 -0.99 -15.998000\n",
       "110 -1.00 -16.000000\n",
       "\n",
       "[111 rows x 2 columns]"
      ]
     },
     "execution_count": 13,
     "metadata": {},
     "output_type": "execute_result"
    }
   ],
   "source": [
    "# function 3 with steepest descent\n",
    "display(Math(r'f(x) = x^5 - 10x^3 + 25x'))\n",
    "display(Math(r'x^* = -1, 1, -\\sqrt{5}, \\sqrt{5}'))\n",
    "\n",
    "x_values, f_values = descent(func3, grad3, p, x_0=0.1, alpha=0.01, num_iter=10000, method='steepest descent')\n",
    "data = pd.DataFrame({'x': x_values, 'f(x)': f_values})\n",
    "data"
   ]
  },
  {
   "cell_type": "code",
   "execution_count": 14,
   "metadata": {},
   "outputs": [
    {
     "name": "stdout",
     "output_type": "stream",
     "text": [
      "alpha = 0.0005\n",
      "alpha = 0.00025\n",
      "alpha = 0.000125\n",
      "alpha = 6.25e-05\n",
      "alpha = 3.125e-05\n",
      "alpha = 1.5625e-05\n",
      "alpha = 7.8125e-06\n",
      "alpha = 3.90625e-06\n",
      "alpha = 1.953125e-06\n",
      "alpha = 9.765625e-07\n",
      "alpha = 4.8828125e-07\n",
      "alpha = 2.44140625e-07\n",
      "alpha = 1.220703125e-07\n",
      "alpha = 6.103515625e-08\n",
      "alpha = 3.0517578125e-08\n",
      "alpha = 1.52587890625e-08\n",
      "alpha = 7.62939453125e-09\n",
      "alpha = 3.814697265625e-09\n",
      "alpha = 1.9073486328125e-09\n",
      "alpha = 9.5367431640625e-10\n",
      "alpha = 4.76837158203125e-10\n",
      "alpha = 2.384185791015625e-10\n",
      "alpha = 1.1920928955078125e-10\n",
      "alpha = 5.960464477539063e-11\n",
      "alpha = 2.980232238769531e-11\n",
      "alpha = 1.4901161193847657e-11\n",
      "alpha = 7.450580596923828e-12\n",
      "alpha = 3.725290298461914e-12\n",
      "alpha = 1.862645149230957e-12\n",
      "alpha = 9.313225746154785e-13\n",
      "alpha = 4.656612873077393e-13\n",
      "alpha = 2.3283064365386963e-13\n",
      "alpha = 1.1641532182693482e-13\n",
      "alpha = 5.820766091346741e-14\n",
      "alpha = 2.9103830456733704e-14\n",
      "alpha = 1.4551915228366852e-14\n",
      "alpha = 7.275957614183426e-15\n",
      "alpha = 3.637978807091713e-15\n",
      "alpha = 1.8189894035458565e-15\n",
      "alpha = 9.094947017729283e-16\n",
      "alpha = 4.547473508864641e-16\n",
      "alpha = 2.2737367544323206e-16\n",
      "alpha = 1.1368683772161603e-16\n",
      "alpha = 5.684341886080802e-17\n",
      "alpha = 2.842170943040401e-17\n",
      "alpha = 1.4210854715202004e-17\n",
      "alpha = 7.105427357601002e-18\n",
      "alpha = 3.552713678800501e-18\n",
      "alpha = 1.7763568394002505e-18\n",
      "alpha = 8.881784197001253e-19\n"
     ]
    },
    {
     "data": {
      "text/html": [
       "<div>\n",
       "<style scoped>\n",
       "    .dataframe tbody tr th:only-of-type {\n",
       "        vertical-align: middle;\n",
       "    }\n",
       "\n",
       "    .dataframe tbody tr th {\n",
       "        vertical-align: top;\n",
       "    }\n",
       "\n",
       "    .dataframe thead th {\n",
       "        text-align: right;\n",
       "    }\n",
       "</style>\n",
       "<table border=\"1\" class=\"dataframe\">\n",
       "  <thead>\n",
       "    <tr style=\"text-align: right;\">\n",
       "      <th></th>\n",
       "      <th>x</th>\n",
       "      <th>f(x)</th>\n",
       "    </tr>\n",
       "  </thead>\n",
       "  <tbody>\n",
       "    <tr>\n",
       "      <th>0</th>\n",
       "      <td>0.100000</td>\n",
       "      <td>2.490010</td>\n",
       "    </tr>\n",
       "    <tr>\n",
       "      <th>1</th>\n",
       "      <td>0.104131</td>\n",
       "      <td>2.591984</td>\n",
       "    </tr>\n",
       "    <tr>\n",
       "      <th>2</th>\n",
       "      <td>0.104131</td>\n",
       "      <td>2.591984</td>\n",
       "    </tr>\n",
       "    <tr>\n",
       "      <th>3</th>\n",
       "      <td>0.104131</td>\n",
       "      <td>2.591984</td>\n",
       "    </tr>\n",
       "    <tr>\n",
       "      <th>4</th>\n",
       "      <td>0.104131</td>\n",
       "      <td>2.591984</td>\n",
       "    </tr>\n",
       "    <tr>\n",
       "      <th>...</th>\n",
       "      <td>...</td>\n",
       "      <td>...</td>\n",
       "    </tr>\n",
       "    <tr>\n",
       "      <th>9997</th>\n",
       "      <td>0.104131</td>\n",
       "      <td>2.591984</td>\n",
       "    </tr>\n",
       "    <tr>\n",
       "      <th>9998</th>\n",
       "      <td>0.104131</td>\n",
       "      <td>2.591984</td>\n",
       "    </tr>\n",
       "    <tr>\n",
       "      <th>9999</th>\n",
       "      <td>0.104131</td>\n",
       "      <td>2.591984</td>\n",
       "    </tr>\n",
       "    <tr>\n",
       "      <th>10000</th>\n",
       "      <td>0.104131</td>\n",
       "      <td>2.591984</td>\n",
       "    </tr>\n",
       "    <tr>\n",
       "      <th>10001</th>\n",
       "      <td>0.104131</td>\n",
       "      <td>2.591984</td>\n",
       "    </tr>\n",
       "  </tbody>\n",
       "</table>\n",
       "<p>10002 rows × 2 columns</p>\n",
       "</div>"
      ],
      "text/plain": [
       "              x      f(x)\n",
       "0      0.100000  2.490010\n",
       "1      0.104131  2.591984\n",
       "2      0.104131  2.591984\n",
       "3      0.104131  2.591984\n",
       "4      0.104131  2.591984\n",
       "...         ...       ...\n",
       "9997   0.104131  2.591984\n",
       "9998   0.104131  2.591984\n",
       "9999   0.104131  2.591984\n",
       "10000  0.104131  2.591984\n",
       "10001  0.104131  2.591984\n",
       "\n",
       "[10002 rows x 2 columns]"
      ]
     },
     "execution_count": 14,
     "metadata": {},
     "output_type": "execute_result"
    }
   ],
   "source": [
    "# function 3 with Newton's method\n",
    "hessian = hessians['func3']\n",
    "x_values, f_values = descent(func3, grad3, p, x_0=0.1, alpha=0.001, num_iter=10000, method='newton', hessian=hessian)\n",
    "data = pd.DataFrame({'x': x_values, 'f(x)': f_values})\n",
    "data"
   ]
  },
  {
   "cell_type": "code",
   "execution_count": 14,
   "metadata": {},
   "outputs": [
    {
     "data": {
      "text/latex": [
       "$\\displaystyle f(x) = x^4 - 12x^2 + 36$"
      ],
      "text/plain": [
       "<IPython.core.display.Math object>"
      ]
     },
     "metadata": {},
     "output_type": "display_data"
    },
    {
     "data": {
      "text/latex": [
       "$\\displaystyle x^* = -\\sqrt{6}, \\sqrt{6}, 0$"
      ],
      "text/plain": [
       "<IPython.core.display.Math object>"
      ]
     },
     "metadata": {},
     "output_type": "display_data"
    },
    {
     "name": "stdout",
     "output_type": "stream",
     "text": [
      "alpha = 0.005\n",
      "alpha = 0.0025\n",
      "alpha = 0.00125\n",
      "alpha = 0.000625\n",
      "alpha = 0.0003125\n",
      "alpha = 0.00015625\n",
      "alpha = 7.8125e-05\n",
      "alpha = 3.90625e-05\n",
      "alpha = 1.953125e-05\n",
      "alpha = 9.765625e-06\n",
      "alpha = 4.8828125e-06\n",
      "alpha = 2.44140625e-06\n",
      "Stopping criterion (1e-06) reached at iteration 221\n"
     ]
    },
    {
     "data": {
      "text/html": [
       "<div>\n",
       "<style scoped>\n",
       "    .dataframe tbody tr th:only-of-type {\n",
       "        vertical-align: middle;\n",
       "    }\n",
       "\n",
       "    .dataframe tbody tr th {\n",
       "        vertical-align: top;\n",
       "    }\n",
       "\n",
       "    .dataframe thead th {\n",
       "        text-align: right;\n",
       "    }\n",
       "</style>\n",
       "<table border=\"1\" class=\"dataframe\">\n",
       "  <thead>\n",
       "    <tr style=\"text-align: right;\">\n",
       "      <th></th>\n",
       "      <th>x</th>\n",
       "      <th>f(x)</th>\n",
       "    </tr>\n",
       "  </thead>\n",
       "  <tbody>\n",
       "    <tr>\n",
       "      <th>0</th>\n",
       "      <td>0.300000</td>\n",
       "      <td>3.492810e+01</td>\n",
       "    </tr>\n",
       "    <tr>\n",
       "      <th>1</th>\n",
       "      <td>0.310000</td>\n",
       "      <td>3.485604e+01</td>\n",
       "    </tr>\n",
       "    <tr>\n",
       "      <th>2</th>\n",
       "      <td>0.320000</td>\n",
       "      <td>3.478169e+01</td>\n",
       "    </tr>\n",
       "    <tr>\n",
       "      <th>3</th>\n",
       "      <td>0.330000</td>\n",
       "      <td>3.470506e+01</td>\n",
       "    </tr>\n",
       "    <tr>\n",
       "      <th>4</th>\n",
       "      <td>0.340000</td>\n",
       "      <td>3.462616e+01</td>\n",
       "    </tr>\n",
       "    <tr>\n",
       "      <th>...</th>\n",
       "      <td>...</td>\n",
       "      <td>...</td>\n",
       "    </tr>\n",
       "    <tr>\n",
       "      <th>217</th>\n",
       "      <td>2.449531</td>\n",
       "      <td>4.134908e-08</td>\n",
       "    </tr>\n",
       "    <tr>\n",
       "      <th>218</th>\n",
       "      <td>2.449453</td>\n",
       "      <td>3.218021e-08</td>\n",
       "    </tr>\n",
       "    <tr>\n",
       "      <th>219</th>\n",
       "      <td>2.449492</td>\n",
       "      <td>1.434373e-10</td>\n",
       "    </tr>\n",
       "    <tr>\n",
       "      <th>220</th>\n",
       "      <td>2.449487</td>\n",
       "      <td>1.426628e-10</td>\n",
       "    </tr>\n",
       "    <tr>\n",
       "      <th>221</th>\n",
       "      <td>2.449490</td>\n",
       "      <td>0.000000e+00</td>\n",
       "    </tr>\n",
       "  </tbody>\n",
       "</table>\n",
       "<p>222 rows × 2 columns</p>\n",
       "</div>"
      ],
      "text/plain": [
       "            x          f(x)\n",
       "0    0.300000  3.492810e+01\n",
       "1    0.310000  3.485604e+01\n",
       "2    0.320000  3.478169e+01\n",
       "3    0.330000  3.470506e+01\n",
       "4    0.340000  3.462616e+01\n",
       "..        ...           ...\n",
       "217  2.449531  4.134908e-08\n",
       "218  2.449453  3.218021e-08\n",
       "219  2.449492  1.434373e-10\n",
       "220  2.449487  1.426628e-10\n",
       "221  2.449490  0.000000e+00\n",
       "\n",
       "[222 rows x 2 columns]"
      ]
     },
     "execution_count": 14,
     "metadata": {},
     "output_type": "execute_result"
    }
   ],
   "source": [
    "# function 4 with steepest descent\n",
    "display(Math(r'f(x) = x^4 - 12x^2 + 36'))\n",
    "display(Math(r'x^* = -\\sqrt{6}, \\sqrt{6}, 0'))\n",
    "\n",
    "x_values, f_values = descent(func4, grad4, p, x_0=0.3, alpha=0.01, num_iter=10000, method='steepest descent')\n",
    "data = pd.DataFrame({'x': x_values, 'f(x)': f_values})\n",
    "data"
   ]
  },
  {
   "cell_type": "code",
   "execution_count": 15,
   "metadata": {},
   "outputs": [
    {
     "name": "stdout",
     "output_type": "stream",
     "text": [
      "alpha = 0.005\n",
      "alpha = 0.0025\n",
      "alpha = 0.00125\n",
      "alpha = 0.000625\n",
      "alpha = 0.0003125\n",
      "alpha = 0.00015625\n",
      "alpha = 7.8125e-05\n",
      "alpha = 3.90625e-05\n",
      "alpha = 1.953125e-05\n",
      "alpha = 9.765625e-06\n",
      "alpha = 4.8828125e-06\n",
      "alpha = 2.44140625e-06\n",
      "alpha = 1.220703125e-06\n",
      "alpha = 6.103515625e-07\n",
      "alpha = 3.0517578125e-07\n",
      "alpha = 1.52587890625e-07\n",
      "alpha = 7.62939453125e-08\n",
      "alpha = 3.814697265625e-08\n",
      "alpha = 1.9073486328125e-08\n",
      "alpha = 9.5367431640625e-09\n",
      "alpha = 4.76837158203125e-09\n",
      "alpha = 2.384185791015625e-09\n",
      "alpha = 1.1920928955078125e-09\n",
      "alpha = 5.960464477539063e-10\n",
      "alpha = 2.9802322387695313e-10\n",
      "alpha = 1.4901161193847657e-10\n",
      "alpha = 7.450580596923828e-11\n",
      "alpha = 3.725290298461914e-11\n",
      "alpha = 1.862645149230957e-11\n",
      "alpha = 9.313225746154785e-12\n",
      "alpha = 4.656612873077393e-12\n",
      "alpha = 2.3283064365386963e-12\n",
      "alpha = 1.1641532182693482e-12\n",
      "alpha = 5.820766091346741e-13\n",
      "alpha = 2.9103830456733704e-13\n",
      "alpha = 1.4551915228366852e-13\n",
      "alpha = 7.275957614183426e-14\n",
      "alpha = 3.637978807091713e-14\n",
      "alpha = 1.8189894035458565e-14\n",
      "alpha = 9.094947017729283e-15\n",
      "alpha = 4.547473508864641e-15\n",
      "alpha = 2.2737367544323206e-15\n",
      "alpha = 1.1368683772161603e-15\n",
      "alpha = 5.684341886080802e-16\n",
      "alpha = 2.842170943040401e-16\n",
      "alpha = 1.4210854715202004e-16\n",
      "alpha = 7.105427357601002e-17\n"
     ]
    },
    {
     "data": {
      "text/html": [
       "<div>\n",
       "<style scoped>\n",
       "    .dataframe tbody tr th:only-of-type {\n",
       "        vertical-align: middle;\n",
       "    }\n",
       "\n",
       "    .dataframe tbody tr th {\n",
       "        vertical-align: top;\n",
       "    }\n",
       "\n",
       "    .dataframe thead th {\n",
       "        text-align: right;\n",
       "    }\n",
       "</style>\n",
       "<table border=\"1\" class=\"dataframe\">\n",
       "  <thead>\n",
       "    <tr style=\"text-align: right;\">\n",
       "      <th></th>\n",
       "      <th>x</th>\n",
       "      <th>f(x)</th>\n",
       "    </tr>\n",
       "  </thead>\n",
       "  <tbody>\n",
       "    <tr>\n",
       "      <th>0</th>\n",
       "      <td>0.300000</td>\n",
       "      <td>34.928100</td>\n",
       "    </tr>\n",
       "    <tr>\n",
       "      <th>1</th>\n",
       "      <td>0.296906</td>\n",
       "      <td>34.949935</td>\n",
       "    </tr>\n",
       "    <tr>\n",
       "      <th>2</th>\n",
       "      <td>0.296906</td>\n",
       "      <td>34.949935</td>\n",
       "    </tr>\n",
       "    <tr>\n",
       "      <th>3</th>\n",
       "      <td>0.296906</td>\n",
       "      <td>34.949935</td>\n",
       "    </tr>\n",
       "    <tr>\n",
       "      <th>4</th>\n",
       "      <td>0.296906</td>\n",
       "      <td>34.949935</td>\n",
       "    </tr>\n",
       "    <tr>\n",
       "      <th>...</th>\n",
       "      <td>...</td>\n",
       "      <td>...</td>\n",
       "    </tr>\n",
       "    <tr>\n",
       "      <th>9997</th>\n",
       "      <td>0.296906</td>\n",
       "      <td>34.949935</td>\n",
       "    </tr>\n",
       "    <tr>\n",
       "      <th>9998</th>\n",
       "      <td>0.296906</td>\n",
       "      <td>34.949935</td>\n",
       "    </tr>\n",
       "    <tr>\n",
       "      <th>9999</th>\n",
       "      <td>0.296906</td>\n",
       "      <td>34.949935</td>\n",
       "    </tr>\n",
       "    <tr>\n",
       "      <th>10000</th>\n",
       "      <td>0.296906</td>\n",
       "      <td>34.949935</td>\n",
       "    </tr>\n",
       "    <tr>\n",
       "      <th>10001</th>\n",
       "      <td>0.296906</td>\n",
       "      <td>34.949935</td>\n",
       "    </tr>\n",
       "  </tbody>\n",
       "</table>\n",
       "<p>10002 rows × 2 columns</p>\n",
       "</div>"
      ],
      "text/plain": [
       "              x       f(x)\n",
       "0      0.300000  34.928100\n",
       "1      0.296906  34.949935\n",
       "2      0.296906  34.949935\n",
       "3      0.296906  34.949935\n",
       "4      0.296906  34.949935\n",
       "...         ...        ...\n",
       "9997   0.296906  34.949935\n",
       "9998   0.296906  34.949935\n",
       "9999   0.296906  34.949935\n",
       "10000  0.296906  34.949935\n",
       "10001  0.296906  34.949935\n",
       "\n",
       "[10002 rows x 2 columns]"
      ]
     },
     "execution_count": 15,
     "metadata": {},
     "output_type": "execute_result"
    }
   ],
   "source": [
    "# function 4 with Newton's method\n",
    "hessian = hessians['func4']\n",
    "x_values, f_values = descent(func4, grad4, p, x_0=0.3, alpha=0.01, num_iter=10000, method='newton', hessian=hessian)\n",
    "data = pd.DataFrame({'x': x_values, 'f(x)': f_values})\n",
    "data"
   ]
  },
  {
   "cell_type": "code",
   "execution_count": 15,
   "metadata": {},
   "outputs": [
    {
     "data": {
      "text/latex": [
       "$\\displaystyle f(x) = -x^3 - 6x^2 + 9$"
      ],
      "text/plain": [
       "<IPython.core.display.Math object>"
      ]
     },
     "metadata": {},
     "output_type": "display_data"
    },
    {
     "data": {
      "text/latex": [
       "$\\displaystyle x^* = 0, 4$"
      ],
      "text/plain": [
       "<IPython.core.display.Math object>"
      ]
     },
     "metadata": {},
     "output_type": "display_data"
    },
    {
     "name": "stdout",
     "output_type": "stream",
     "text": [
      "Stopping criterion (1e-06) reached at iteration 390\n"
     ]
    },
    {
     "data": {
      "text/html": [
       "<div>\n",
       "<style scoped>\n",
       "    .dataframe tbody tr th:only-of-type {\n",
       "        vertical-align: middle;\n",
       "    }\n",
       "\n",
       "    .dataframe tbody tr th {\n",
       "        vertical-align: top;\n",
       "    }\n",
       "\n",
       "    .dataframe thead th {\n",
       "        text-align: right;\n",
       "    }\n",
       "</style>\n",
       "<table border=\"1\" class=\"dataframe\">\n",
       "  <thead>\n",
       "    <tr style=\"text-align: right;\">\n",
       "      <th></th>\n",
       "      <th>x</th>\n",
       "      <th>f(x)</th>\n",
       "    </tr>\n",
       "  </thead>\n",
       "  <tbody>\n",
       "    <tr>\n",
       "      <th>0</th>\n",
       "      <td>0.10</td>\n",
       "      <td>8.941000</td>\n",
       "    </tr>\n",
       "    <tr>\n",
       "      <th>1</th>\n",
       "      <td>0.11</td>\n",
       "      <td>8.928731</td>\n",
       "    </tr>\n",
       "    <tr>\n",
       "      <th>2</th>\n",
       "      <td>0.12</td>\n",
       "      <td>8.915328</td>\n",
       "    </tr>\n",
       "    <tr>\n",
       "      <th>3</th>\n",
       "      <td>0.13</td>\n",
       "      <td>8.900797</td>\n",
       "    </tr>\n",
       "    <tr>\n",
       "      <th>4</th>\n",
       "      <td>0.14</td>\n",
       "      <td>8.885144</td>\n",
       "    </tr>\n",
       "    <tr>\n",
       "      <th>...</th>\n",
       "      <td>...</td>\n",
       "      <td>...</td>\n",
       "    </tr>\n",
       "    <tr>\n",
       "      <th>386</th>\n",
       "      <td>3.96</td>\n",
       "      <td>-22.990464</td>\n",
       "    </tr>\n",
       "    <tr>\n",
       "      <th>387</th>\n",
       "      <td>3.97</td>\n",
       "      <td>-22.994627</td>\n",
       "    </tr>\n",
       "    <tr>\n",
       "      <th>388</th>\n",
       "      <td>3.98</td>\n",
       "      <td>-22.997608</td>\n",
       "    </tr>\n",
       "    <tr>\n",
       "      <th>389</th>\n",
       "      <td>3.99</td>\n",
       "      <td>-22.999401</td>\n",
       "    </tr>\n",
       "    <tr>\n",
       "      <th>390</th>\n",
       "      <td>4.00</td>\n",
       "      <td>-23.000000</td>\n",
       "    </tr>\n",
       "  </tbody>\n",
       "</table>\n",
       "<p>391 rows × 2 columns</p>\n",
       "</div>"
      ],
      "text/plain": [
       "        x       f(x)\n",
       "0    0.10   8.941000\n",
       "1    0.11   8.928731\n",
       "2    0.12   8.915328\n",
       "3    0.13   8.900797\n",
       "4    0.14   8.885144\n",
       "..    ...        ...\n",
       "386  3.96 -22.990464\n",
       "387  3.97 -22.994627\n",
       "388  3.98 -22.997608\n",
       "389  3.99 -22.999401\n",
       "390  4.00 -23.000000\n",
       "\n",
       "[391 rows x 2 columns]"
      ]
     },
     "execution_count": 15,
     "metadata": {},
     "output_type": "execute_result"
    }
   ],
   "source": [
    "# function 5 with steepest descent\n",
    "display(Math(r'f(x) = -x^3 - 6x^2 + 9'))\n",
    "display(Math(r'x^* = 0, 4'))\n",
    "\n",
    "x_values, f_values = descent(func5, grad5, p, x_0=0.1, alpha=0.01, num_iter=10000, method='steepest descent')\n",
    "data = pd.DataFrame({'x': x_values, 'f(x)': f_values})\n",
    "data"
   ]
  },
  {
   "cell_type": "code",
   "execution_count": 12,
   "metadata": {},
   "outputs": [
    {
     "name": "stdout",
     "output_type": "stream",
     "text": [
      "alpha = 0.005\n",
      "alpha = 0.0025\n",
      "alpha = 0.00125\n",
      "alpha = 0.000625\n",
      "alpha = 0.0003125\n",
      "alpha = 0.00015625\n",
      "alpha = 7.8125e-05\n",
      "alpha = 3.90625e-05\n",
      "alpha = 1.953125e-05\n",
      "alpha = 9.765625e-06\n",
      "alpha = 4.8828125e-06\n",
      "alpha = 2.44140625e-06\n",
      "alpha = 1.220703125e-06\n",
      "alpha = 6.103515625e-07\n",
      "alpha = 3.0517578125e-07\n",
      "alpha = 1.52587890625e-07\n",
      "alpha = 7.62939453125e-08\n",
      "alpha = 3.814697265625e-08\n",
      "alpha = 1.9073486328125e-08\n",
      "alpha = 9.5367431640625e-09\n",
      "alpha = 4.76837158203125e-09\n",
      "alpha = 2.384185791015625e-09\n",
      "alpha = 1.1920928955078125e-09\n",
      "alpha = 5.960464477539063e-10\n",
      "alpha = 2.9802322387695313e-10\n",
      "alpha = 1.4901161193847657e-10\n",
      "alpha = 7.450580596923828e-11\n",
      "alpha = 3.725290298461914e-11\n",
      "alpha = 1.862645149230957e-11\n",
      "alpha = 9.313225746154785e-12\n",
      "alpha = 4.656612873077393e-12\n",
      "alpha = 2.3283064365386963e-12\n",
      "alpha = 1.1641532182693482e-12\n",
      "alpha = 5.820766091346741e-13\n",
      "alpha = 2.9103830456733704e-13\n",
      "alpha = 1.4551915228366852e-13\n",
      "alpha = 7.275957614183426e-14\n",
      "alpha = 3.637978807091713e-14\n",
      "alpha = 1.8189894035458565e-14\n",
      "alpha = 9.094947017729283e-15\n",
      "alpha = 4.547473508864641e-15\n",
      "alpha = 2.2737367544323206e-15\n"
     ]
    },
    {
     "data": {
      "text/html": [
       "<div>\n",
       "<style scoped>\n",
       "    .dataframe tbody tr th:only-of-type {\n",
       "        vertical-align: middle;\n",
       "    }\n",
       "\n",
       "    .dataframe tbody tr th {\n",
       "        vertical-align: top;\n",
       "    }\n",
       "\n",
       "    .dataframe thead th {\n",
       "        text-align: right;\n",
       "    }\n",
       "</style>\n",
       "<table border=\"1\" class=\"dataframe\">\n",
       "  <thead>\n",
       "    <tr style=\"text-align: right;\">\n",
       "      <th></th>\n",
       "      <th>x</th>\n",
       "      <th>f(x)</th>\n",
       "    </tr>\n",
       "  </thead>\n",
       "  <tbody>\n",
       "    <tr>\n",
       "      <th>0</th>\n",
       "      <td>0.100000</td>\n",
       "      <td>8.941000</td>\n",
       "    </tr>\n",
       "    <tr>\n",
       "      <th>1</th>\n",
       "      <td>0.098974</td>\n",
       "      <td>8.942195</td>\n",
       "    </tr>\n",
       "    <tr>\n",
       "      <th>2</th>\n",
       "      <td>0.098974</td>\n",
       "      <td>8.942195</td>\n",
       "    </tr>\n",
       "  </tbody>\n",
       "</table>\n",
       "</div>"
      ],
      "text/plain": [
       "          x      f(x)\n",
       "0  0.100000  8.941000\n",
       "1  0.098974  8.942195\n",
       "2  0.098974  8.942195"
      ]
     },
     "execution_count": 12,
     "metadata": {},
     "output_type": "execute_result"
    }
   ],
   "source": [
    "# function 5 with Newton's method\n",
    "hessian = hessians['func5']\n",
    "x_values, f_values = descent(func5, grad5, p, x_0=0.1, alpha=0.01, num_iter=10000, method='newton', hessian=hessian)\n",
    "data = pd.DataFrame({'x': x_values, 'f(x)': f_values})\n",
    "data"
   ]
  }
 ],
 "metadata": {
  "kernelspec": {
   "display_name": "jku_gpu",
   "language": "python",
   "name": "python3"
  },
  "language_info": {
   "codemirror_mode": {
    "name": "ipython",
    "version": 3
   },
   "file_extension": ".py",
   "mimetype": "text/x-python",
   "name": "python",
   "nbconvert_exporter": "python",
   "pygments_lexer": "ipython3",
   "version": "3.10.9"
  }
 },
 "nbformat": 4,
 "nbformat_minor": 2
}
